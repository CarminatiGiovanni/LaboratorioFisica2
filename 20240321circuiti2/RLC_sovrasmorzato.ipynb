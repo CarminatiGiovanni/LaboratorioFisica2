{
 "cells": [
  {
   "cell_type": "code",
   "execution_count": 1,
   "metadata": {},
   "outputs": [],
   "source": [
    "import pandas as pd\n",
    "import numpy as np\n",
    "from matplotlib import pyplot as plt\n",
    "import os\n",
    "import sys\n",
    "\n",
    "dir_path = os.path.abspath('')\n",
    "sys.path.append(dir_path + '/../')\n",
    "\n",
    "from interpolazione import Interpolazione, final_val\n",
    "\n",
    "dir_path = os.path.abspath('')\n",
    "FILE = dir_path + '/data/' + 'RLC sovrasmorzato.csv'\n",
    "fr = pd.read_csv(FILE)"
   ]
  },
  {
   "cell_type": "code",
   "execution_count": 2,
   "metadata": {},
   "outputs": [],
   "source": [
    "t = np.array(fr['t (us)'])[8:] * 10**-6\n",
    "V = np.array(fr['V (Volt)'])[8:]\n",
    "sigmaV = 0.04/np.sqrt(12) # np.sqrt((V*0.01)**2 + (0.04 / np.sqrt(12))**2)\n",
    "\n",
    "R = 9980 + 58.5 #ohm\n",
    "sigmaR = R * 0.01\n",
    "\n",
    "L = 88.8 * 10**-3 #Hr\n",
    "sigmaL = 0.9* 10**-3 #Hr\n",
    "\n",
    "C =  104.7* 10**-9 # ± 0.3)e-9 F\n",
    "sigmaC = 1.1 * 10**-9 # F\n",
    "\n",
    "Vg = 4 #Volt"
   ]
  },
  {
   "cell_type": "markdown",
   "metadata": {},
   "source": [
    "$\n",
    "\\beta = \\sqrt{\\omega^2 - \\gamma^2}\n",
    "$"
   ]
  },
  {
   "cell_type": "code",
   "execution_count": 3,
   "metadata": {},
   "outputs": [
    {
     "name": "stdout",
     "output_type": "stream",
     "text": [
      "---------------- EXPECTED VALUES ----------------\n",
      "w2 = (10.756 ± 0.157)e7 \n",
      "γ = (56.523 ± 0.805)e3 \n",
      "β = (55.563 ± 0.819)e3 \n"
     ]
    }
   ],
   "source": [
    "w2 = 1 / (L*C)\n",
    "sigmaw2 = np.abs(1/(L*C))*np.sqrt((sigmaL/L)**2 + (sigmaC/C)**2)\n",
    "\n",
    "γ = R / (2*L)\n",
    "dγ_dR = 1 / (2 * L)\n",
    "dγ_dL = -R / (2 * L**2)\n",
    "sigmaγ = np.sqrt((dγ_dR * sigmaR)**2 + (dγ_dL * sigmaL)**2)\n",
    "\n",
    "β = np.sqrt(γ**2 - w2)\n",
    "dβ_dw = 0.5 / np.sqrt(γ**2 - w2)\n",
    "dβ_dγ = -γ / np.sqrt(γ**2 - w2)\n",
    "sigmaβ = np.sqrt((dβ_dw * sigmaw2)**2 + (dβ_dγ * sigmaγ)**2)\n",
    "\n",
    "print('---------------- EXPECTED VALUES ----------------')\n",
    "print('w2 =', final_val(w2, sigmaw2,exp=7,decimals=3))\n",
    "print('γ =', final_val(γ, sigmaγ,exp=3,decimals=3))\n",
    "print('β =', final_val(β, sigmaβ,exp=3,decimals=3))"
   ]
  },
  {
   "cell_type": "markdown",
   "metadata": {},
   "source": [
    "$\n",
    "V_r = V_0 \\cdot e^{-\\gamma t} \\cdot (\\exp(\\beta t) - \\exp(-\\beta t))\n",
    "$"
   ]
  },
  {
   "cell_type": "code",
   "execution_count": 4,
   "metadata": {},
   "outputs": [],
   "source": [
    "def VR_sovrasmorzato(t,V0,γ,β):\n",
    "    return V0 * np.exp(-γ*t) * (np.exp(β*t) - np.exp(-β*t))"
   ]
  },
  {
   "cell_type": "code",
   "execution_count": 5,
   "metadata": {},
   "outputs": [
    {
     "name": "stdout",
     "output_type": "stream",
     "text": [
      "   \n",
      "Parameters: [7.90963472e+00 5.64912706e+04 5.54713447e+04] \n",
      "Sigma parameters: [9.79826646e-03 1.40679456e+03 1.40747103e+03]\n",
      "\n",
      "sigmaY: 0.011547005383792516\n",
      "\n",
      "chiquadro ridotto: 3.06\n",
      "df: 82\n",
      "pvalue: 100.0%\n",
      "covariance matrix: [[ 8.93487219e-05 -6.57613998e+00 -6.58854469e+00]\n",
      " [-6.57613998e+00  1.84183710e+06  1.84272149e+06]\n",
      " [-6.58854469e+00  1.84272149e+06  1.84360885e+06]]    \n",
      "\n"
     ]
    }
   ],
   "source": [
    "Vg_guess = 4 #Volt\n",
    "i = Interpolazione(t,V,VR_sovrasmorzato,sigmaV,p0=[Vg_guess,γ,β])\n",
    "print(i)"
   ]
  },
  {
   "cell_type": "code",
   "execution_count": 6,
   "metadata": {},
   "outputs": [
    {
     "data": {
      "image/png": "[encoded data removed]",
      "text/plain": [
       "<Figure size 640x480 with 1 Axes>"
      ]
     },
     "metadata": {},
     "output_type": "display_data"
    }
   ],
   "source": [
    "plt.errorbar(t, V, yerr=sigmaV, fmt='.', label='Data',ecolor='black',capsize=2)\n",
    "plt.plot(i.x_best, i.y_best, label='Fit')\n",
    "plt.xlabel('t (us)')\n",
    "plt.ylabel('V (Volt)')\n",
    "plt.legend()\n",
    "plt.show()"
   ]
  },
  {
   "cell_type": "markdown",
   "metadata": {},
   "source": [
    "### CONFRONTO VALORI"
   ]
  },
  {
   "cell_type": "code",
   "execution_count": 7,
   "metadata": {},
   "outputs": [
    {
     "name": "stdout",
     "output_type": "stream",
     "text": [
      "---------------- EXPECTED VALUES ----------------\n",
      "w2 = (10.756 ± 0.157)e7 \n",
      "γ = (56.523 ± 0.805)e3 \n",
      "β = (55.563 ± 0.819)e3 \n",
      "---------------- FITTED VALUES ----------------\n",
      "γ =  (56.491 ± 1.407)e3 \n",
      "β =  (55.471 ± 1.407)e3 \n",
      "t (γ) = 0.02\n",
      "t (β) = 0.057\n"
     ]
    }
   ],
   "source": [
    "_,γf,βf = i.bval\n",
    "_,sigmaγf,sigmaβf = i.sigma_bval\n",
    "\n",
    "print('---------------- EXPECTED VALUES ----------------')\n",
    "print('w2 =', final_val(w2, sigmaw2,exp=7,decimals=3))\n",
    "print('γ =', final_val(γ, sigmaγ,exp=3,decimals=3))\n",
    "print('β =', final_val(β, sigmaβ,exp=3,decimals=3))\n",
    "\n",
    "print('---------------- FITTED VALUES ----------------')\n",
    "print('γ = ',final_val(γf,sigmaγf,decimals=3,exp=3))\n",
    "print('β = ',final_val(βf,sigmaβf,decimals=3,exp=3))\n",
    "tγ = np.round(np.abs(γf - γ) / np.sqrt(sigmaγ**2 + sigmaγf**2),3)\n",
    "tβ = np.round(np.abs(βf - β) / np.sqrt(sigmaβ**2 + sigmaβf**2),3)\n",
    "print('t (γ) =', tγ)\n",
    "print('t (β) =', tβ)"
   ]
  }
 ],
 "metadata": {
  "kernelspec": {
   "display_name": "Python 3",
   "language": "python",
   "name": "python3"
  },
  "language_info": {
   "codemirror_mode": {
    "name": "ipython",
    "version": 3
   },
   "file_extension": ".py",
   "mimetype": "text/x-python",
   "name": "python",
   "nbconvert_exporter": "python",
   "pygments_lexer": "ipython3",
   "version": "3.10.12"
  }
 },
 "nbformat": 4,
 "nbformat_minor": 2
}
