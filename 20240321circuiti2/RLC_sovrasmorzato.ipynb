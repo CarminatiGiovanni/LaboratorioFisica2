{
 "cells": [
  {
   "cell_type": "code",
   "execution_count": 56,
   "metadata": {},
   "outputs": [],
   "source": [
    "import pandas as pd\n",
    "import numpy as np\n",
    "from matplotlib import pyplot as plt\n",
    "import os\n",
    "import sys\n",
    "\n",
    "dir_path = os.path.abspath('')\n",
    "sys.path.append(dir_path + '/../')\n",
    "\n",
    "from interpolazione import Interpolazione, final_val\n",
    "\n",
    "dir_path = os.path.abspath('')\n",
    "FILE = dir_path + '/data/' + 'RLC sovrasmorzato.csv'\n",
    "fr = pd.read_csv(FILE)"
   ]
  },
  {
   "cell_type": "code",
   "execution_count": 57,
   "metadata": {},
   "outputs": [],
   "source": [
    "t = np.array(fr['t (us)']) * 10**-6\n",
    "V = np.array(fr['V (Volt)'])\n",
    "sigmaV = np.sqrt((V*0.01)**2 + (0.04 / np.sqrt(12))**2)\n",
    "\n",
    "R = 9980 + 58.5 #ohm\n",
    "sigmaR = R * 0.01\n",
    "\n",
    "L = 88.8 * 10**-3 #Hr\n",
    "sigmaL = 0.3* 10**-3 #Hr\n",
    "\n",
    "C =  104.7* 10**-9 # ± 0.3)e-9 F\n",
    "sigmaC = 0.3 * 10**-9 # F\n",
    "\n",
    "Vg = 4 #Volt"
   ]
  },
  {
   "cell_type": "markdown",
   "metadata": {},
   "source": [
    "$\n",
    "\\beta = \\sqrt{\\omega^2 - \\gamma^2}\n",
    "$"
   ]
  },
  {
   "cell_type": "code",
   "execution_count": 58,
   "metadata": {},
   "outputs": [
    {
     "name": "stdout",
     "output_type": "stream",
     "text": [
      "---------------- EXPECTED VALUES ----------------\n",
      "w2 = (10.756 ± 0.048)e7 \n",
      "γ = (56.523 ± 0.597)e3 \n",
      "β = (55.563 ± 0.607)e3 \n"
     ]
    }
   ],
   "source": [
    "w2 = 1 / (L*C)\n",
    "sigmaw2 = np.abs(1/(L*C))*np.sqrt((sigmaL/L)**2 + (sigmaC/C)**2)\n",
    "\n",
    "γ = R / (2*L)\n",
    "dγ_dR = 1 / (2 * L)\n",
    "dγ_dL = -R / (2 * L**2)\n",
    "sigmaγ = np.sqrt((dγ_dR * sigmaR)**2 + (dγ_dL * sigmaL)**2)\n",
    "\n",
    "β = np.sqrt(γ**2 - w2)\n",
    "dβ_dw = 0.5 / np.sqrt(γ**2 - w2)\n",
    "dβ_dγ = -γ / np.sqrt(γ**2 - w2)\n",
    "sigmaβ = np.sqrt((dβ_dw * sigmaw2)**2 + (dβ_dγ * sigmaγ)**2)\n",
    "\n",
    "print('---------------- EXPECTED VALUES ----------------')\n",
    "print('w2 =', final_val(w2, sigmaw2,exp=7,decimals=3))\n",
    "print('γ =', final_val(γ, sigmaγ,exp=3,decimals=3))\n",
    "print('β =', final_val(β, sigmaβ,exp=3,decimals=3))"
   ]
  },
  {
   "cell_type": "markdown",
   "metadata": {},
   "source": [
    "$\n",
    "V_r = V_0 \\cdot e^{-\\gamma t} \\cdot (\\exp(\\beta t) - \\exp(-\\beta t))\n",
    "$"
   ]
  },
  {
   "cell_type": "code",
   "execution_count": 59,
   "metadata": {},
   "outputs": [],
   "source": [
    "def VR_sovrasmorzato(t,V0,γ,β):\n",
    "    return V0 * np.exp(-γ*t) * (np.exp(β*t) - np.exp(-β*t))"
   ]
  },
  {
   "cell_type": "code",
   "execution_count": 60,
   "metadata": {},
   "outputs": [
    {
     "name": "stdout",
     "output_type": "stream",
     "text": [
      "   \n",
      "Parameters: [7.95829587e+00 5.29773973e+04 5.19508760e+04] \n",
      "Sigma parameters: [2.30289213e-02 6.22309026e+02 6.24269445e+02]\n",
      "\n",
      "sigmaY: [0.01154744 0.02555726 0.04548993 0.05835386 0.06582077 0.07015678\n",
      " 0.07292005 0.07450029 0.07529073 0.07568602 0.07331503 0.07094599\n",
      " 0.06818485 0.06582077 0.06404946 0.06070826 0.05874601 0.0563948\n",
      " 0.05443871 0.05209581 0.05014752 0.04820346 0.04626417 0.04471659\n",
      " 0.04317283 0.04124916 0.04009855 0.03818761 0.03704556 0.03552877\n",
      " 0.03439612 0.03289336 0.0321455  0.03102859 0.02991811 0.02881481\n",
      " 0.02771955 0.02699432 0.02591473 0.02520106 0.0241407  0.02344127\n",
      " 0.02274848 0.02206294 0.02138535 0.02104978 0.02038562 0.01973153\n",
      " 0.01940859 0.01877161 0.01845788 0.01784078 0.01753777 0.01723872\n",
      " 0.01665333 0.01636745 0.01608643 0.01581055 0.01554006 0.01527525\n",
      " 0.01476392 0.01427912 0.01382365 0.01360784 0.01320202 0.01301281\n",
      " 0.01283329 0.01266386 0.01250493 0.01235691 0.0122202  0.0122202\n",
      " 0.01209518 0.01198221 0.01198221 0.01188164 0.01179378 0.01171893\n",
      " 0.01171893 0.01165733 0.01165733 0.01160919 0.01160919 0.01157469\n",
      " 0.01157469 0.01157469 0.01155393 0.01155393 0.01155393 0.01155393\n",
      " 0.01155393 0.01154744 0.01154744]\n",
      "\n",
      "chiquadro ridotto: 3.95\n",
      "df: 90\n",
      "pvalue: 100.0%\n",
      "covariance matrix: [[ 4.96668153e-04 -8.33075823e+00 -8.40038630e+00]\n",
      " [-8.33075823e+00  3.62686442e+05  3.63821273e+05]\n",
      " [-8.40038630e+00  3.63821273e+05  3.64975136e+05]]    \n",
      "\n"
     ]
    }
   ],
   "source": [
    "Vg_guess = 4 #Volt\n",
    "i = Interpolazione(t,V,VR_sovrasmorzato,sigmaV,p0=[Vg_guess,γ,β])\n",
    "print(i)"
   ]
  },
  {
   "cell_type": "code",
   "execution_count": 61,
   "metadata": {},
   "outputs": [
    {
     "data": {
      "image/png": "[encoded data removed]",
      "text/plain": [
       "<Figure size 640x480 with 1 Axes>"
      ]
     },
     "metadata": {},
     "output_type": "display_data"
    }
   ],
   "source": [
    "plt.errorbar(t, V, yerr=sigmaV, fmt='.', label='Data',ecolor='black',capsize=2)\n",
    "plt.plot(i.x_best, i.y_best, label='Fit')\n",
    "plt.xlabel('t (us)')\n",
    "plt.ylabel('V (Volt)')\n",
    "plt.legend()\n",
    "plt.show()"
   ]
  },
  {
   "cell_type": "markdown",
   "metadata": {},
   "source": [
    "### CONFRONTO VALORI"
   ]
  },
  {
   "cell_type": "code",
   "execution_count": 62,
   "metadata": {},
   "outputs": [
    {
     "name": "stdout",
     "output_type": "stream",
     "text": [
      "---------------- EXPECTED VALUES ----------------\n",
      "w2 = (10.756 ± 0.048)e7 \n",
      "γ = (56.523 ± 0.597)e3 \n",
      "β = (55.563 ± 0.607)e3 \n",
      "---------------- FITTED VALUES ----------------\n",
      "γ =  (52.977 ± 0.622)e3 \n",
      "β =  (51.951 ± 0.624)e3 \n",
      "t (γ) = 4.113\n",
      "t (β) = 4.149\n"
     ]
    }
   ],
   "source": [
    "_,γf,βf = i.bval\n",
    "_,sigmaγf,sigmaβf = i.sigma_bval\n",
    "\n",
    "print('---------------- EXPECTED VALUES ----------------')\n",
    "print('w2 =', final_val(w2, sigmaw2,exp=7,decimals=3))\n",
    "print('γ =', final_val(γ, sigmaγ,exp=3,decimals=3))\n",
    "print('β =', final_val(β, sigmaβ,exp=3,decimals=3))\n",
    "\n",
    "print('---------------- FITTED VALUES ----------------')\n",
    "print('γ = ',final_val(γf,sigmaγf,decimals=3,exp=3))\n",
    "print('β = ',final_val(βf,sigmaβf,decimals=3,exp=3))\n",
    "tγ = np.round(np.abs(γf - γ) / np.sqrt(sigmaγ**2 + sigmaγf**2),3)\n",
    "tβ = np.round(np.abs(βf - β) / np.sqrt(sigmaβ**2 + sigmaβf**2),3)\n",
    "print('t (γ) =', tγ)\n",
    "print('t (β) =', tβ)"
   ]
  }
 ],
 "metadata": {
  "kernelspec": {
   "display_name": "Python 3",
   "language": "python",
   "name": "python3"
  },
  "language_info": {
   "codemirror_mode": {
    "name": "ipython",
    "version": 3
   },
   "file_extension": ".py",
   "mimetype": "text/x-python",
   "name": "python",
   "nbconvert_exporter": "python",
   "pygments_lexer": "ipython3",
   "version": "3.10.12"
  }
 },
 "nbformat": 4,
 "nbformat_minor": 2
}
