{
 "cells": [
  {
   "cell_type": "code",
   "execution_count": null,
   "metadata": {},
   "outputs": [],
   "source": [
    "import pandas as pd\n",
    "import numpy as np\n",
    "from matplotlib import pyplot as plt\n",
    "import os\n",
    "import sys\n",
    "\n",
    "dir_path = os.path.abspath('')\n",
    "sys.path.append(dir_path + '/../')\n",
    "\n",
    "from interpolazione import Interpolazione\n",
    "\n",
    "dir_path = os.path.abspath('')\n",
    "FILE = dir_path + '/data/' + 'RLC sovrasmorzato.csv'\n",
    "fr = pd.read_csv(FILE)"
   ]
  },
  {
   "cell_type": "code",
   "execution_count": null,
   "metadata": {},
   "outputs": [],
   "source": [
    "t = np.array(fr['t (us)']) * 10**-6\n",
    "V = np.array(fr['V (Volt)']) * 10**-3"
   ]
  },
  {
   "cell_type": "code",
   "execution_count": null,
   "metadata": {},
   "outputs": [],
   "source": []
  }
 ],
 "metadata": {
  "language_info": {
   "name": "python"
  }
 },
 "nbformat": 4,
 "nbformat_minor": 2
}
