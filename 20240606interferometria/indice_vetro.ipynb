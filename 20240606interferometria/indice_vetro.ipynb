{
 "cells": [
  {
   "cell_type": "markdown",
   "metadata": {},
   "source": [
    "# Indice vetro"
   ]
  },
  {
   "cell_type": "code",
   "execution_count": 1,
   "metadata": {},
   "outputs": [],
   "source": [
    "import pandas as pd\n",
    "import numpy as np\n",
    "from matplotlib import pyplot as plt\n",
    "import os\n",
    "import sys\n",
    "from jax import grad\n",
    "from jax import numpy as jnp\n",
    "\n",
    "dir_path = os.path.abspath('')\n",
    "sys.path.append(dir_path + '/../')\n",
    "\n",
    "from giopy import Interpolazione, final_val\n",
    "from interpolazione import Interpolazione as LinearInterpolation\n",
    "\n",
    "sys.path.append(dir_path)"
   ]
  },
  {
   "cell_type": "code",
   "execution_count": 2,
   "metadata": {},
   "outputs": [
    {
     "data": {
      "text/plain": [
       "[<matplotlib.lines.Line2D at 0x7eff6ec31270>]"
      ]
     },
     "execution_count": 2,
     "metadata": {},
     "output_type": "execute_result"
    },
    {
     "data": {
      "image/png": "[encoded data removed]",
      "text/plain": [
       "<Figure size 640x480 with 1 Axes>"
      ]
     },
     "metadata": {},
     "output_type": "display_data"
    }
   ],
   "source": [
    "αi = np.array([-2.4, -2.4, -2.4, -2.4, -2.4, -2.4])\n",
    "αf = np.array([-1.1, 0.1, 0.8, 3.5, 4.6, 5.2])\n",
    "ΔN = np.array([3, 6, 17, 36, 48, 59])\n",
    "\n",
    "Δα = np.radians(αf - αi)\n",
    "sigmaα = np.radians(0.1)\n",
    "λ = 632.8 * 10**(-9)\n",
    "d = 0.00575\n",
    "\n",
    "plt.plot(ΔN, Δα, 'o')"
   ]
  },
  {
   "cell_type": "markdown",
   "metadata": {},
   "source": [
    "$n_{vetro} = \\frac{(2d − \\Delta N \\lambda)(1 − \\cos\\Delta\\alpha)}{2d · (1 − \\cos\\Delta\\alpha) − \\Delta N \\lambda }$\n"
   ]
  },
  {
   "cell_type": "code",
   "execution_count": 3,
   "metadata": {},
   "outputs": [
    {
     "name": "stdout",
     "output_type": "stream",
     "text": [
      "[2.78779603 1.53061562 2.49726895 1.59418001 1.54472983 1.58108815]\n",
      "[0.76693538 0.06502506 0.23399681 0.03225195 0.02419214 0.02435617]\n"
     ]
    }
   ],
   "source": [
    "def n_vetro_f(Δα, ΔN):\n",
    "    num = (2*d - ΔN*λ)*(1 - jnp.cos(Δα))\n",
    "    den = 2*d*(1 - jnp.cos(Δα)) - ΔN*λ\n",
    "    return num/den\n",
    "    \n",
    "def sigma_n_vetro(Δα, ΔN,sigmaα):\n",
    "    return np.abs(np.array([grad(n_vetro_f, 0)(α, N) for α, N in zip(Δα, ΔN)])*sigmaα)\n",
    "\n",
    "n_vetro = n_vetro_f(Δα, ΔN)\n",
    "sigma_n_vetro = sigma_n_vetro(Δα, ΔN, sigmaα)\n",
    "\n",
    "print(n_vetro)\n",
    "print(sigma_n_vetro)"
   ]
  }
 ],
 "metadata": {
  "kernelspec": {
   "display_name": "Python 3",
   "language": "python",
   "name": "python3"
  },
  "language_info": {
   "codemirror_mode": {
    "name": "ipython",
    "version": 3
   },
   "file_extension": ".py",
   "mimetype": "text/x-python",
   "name": "python",
   "nbconvert_exporter": "python",
   "pygments_lexer": "ipython3",
   "version": "3.10.12"
  }
 },
 "nbformat": 4,
 "nbformat_minor": 2
}
