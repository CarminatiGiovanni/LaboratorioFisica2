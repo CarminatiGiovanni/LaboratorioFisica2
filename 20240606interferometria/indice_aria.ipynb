{
 "cells": [
  {
   "cell_type": "markdown",
   "metadata": {},
   "source": [
    "# Misura indice rifrazione aria\n",
    "\n",
    "$2 \\cdot d \\cdot m \\cdot (P_i − P_f ) =  \\Delta N \\cdot \\lambda $\n"
   ]
  },
  {
   "cell_type": "code",
   "execution_count": 1,
   "metadata": {},
   "outputs": [],
   "source": [
    "import pandas as pd\n",
    "import numpy as np\n",
    "from matplotlib import pyplot as plt\n",
    "import os\n",
    "import sys\n",
    "from jax import grad\n",
    "from jax import numpy as jnp\n",
    "\n",
    "dir_path = os.path.abspath('')\n",
    "sys.path.append(dir_path + '/../')\n",
    "\n",
    "from giopy import Interpolazione, final_val\n",
    "from interpolazione import Interpolazione as LinearInterpolation\n",
    "\n",
    "sys.path.append(dir_path)"
   ]
  },
  {
   "cell_type": "markdown",
   "metadata": {},
   "source": [
    "- $\\sigma_P = 2kPa$\n",
    "- $d = 3cm$\n",
    "- $P_{atm} = 1017hpa$\n",
    "\n",
    "$ \\Delta P = \\frac{\\lambda}{2dm}\\Delta N$"
   ]
  },
  {
   "cell_type": "code",
   "execution_count": 2,
   "metadata": {},
   "outputs": [],
   "source": [
    "ΔN = np.array([6, 8, 9, 11, 12, 13, 14, 15, 16, 17, 18])\n",
    "ΔP = -1*np.array([-30, -35, -45, -50, -55, -60, -65, -70, -75, -80, -85]) * 10**3 # kpa\n",
    "\n",
    "sigmaP = 2000\n",
    "Patm = 101700\n",
    "sigmaPatm = 100\n",
    "d = 0.03\n",
    "sigmad = 0.0001\n",
    "λ = 632.8 * 10**-9"
   ]
  },
  {
   "cell_type": "code",
   "execution_count": 3,
   "metadata": {},
   "outputs": [
    {
     "name": "stdout",
     "output_type": "stream",
     "text": [
      "   \n",
      "Parameters: {'A': 4674.540682532134} \n",
      "Sigma parameters: {'A': 38.4000352157239}\n",
      "\n",
      "sigmaY: 2000\n",
      "\n",
      "chiquadro ridotto: 0.58\n",
      "df: 10\n",
      "pvalue: 100.0%\n",
      "covariance matrix: [[1218.64686328]]    \n",
      "\n"
     ]
    },
    {
     "data": {
      "image/png": "[encoded data removed]",
      "text/plain": [
       "<Figure size 640x480 with 1 Axes>"
      ]
     },
     "metadata": {},
     "output_type": "display_data"
    }
   ],
   "source": [
    "plt.errorbar(ΔN, ΔP, yerr=sigmaP, fmt='o', label='Dati')\n",
    "\n",
    "fit = LinearInterpolation(ΔN, ΔP,lambda x,A: x*A, sigmaP,p0=[1],names='A')\n",
    "print(fit)\n",
    "\n",
    "plt.plot(fit.x_best, fit.y_best, label='Fit')\n",
    "plt.xlabel('ΔN')\n",
    "plt.ylabel('ΔP [kPa]')\n",
    "plt.yticks(np.arange(30000, 100000, 10*10**3), np.arange(30, 100, 10))\n",
    "plt.legend()\n",
    "plt.show()"
   ]
  },
  {
   "cell_type": "markdown",
   "metadata": {},
   "source": [
    "$n = m \\cdot P + 1$\n",
    "\n",
    "$m = \\frac{\\lambda}{2dA}$"
   ]
  },
  {
   "cell_type": "code",
   "execution_count": 4,
   "metadata": {},
   "outputs": [
    {
     "name": "stdout",
     "output_type": "stream",
     "text": [
      "m:  (22.56 ± 0.2)e-10 Pa^-1\n",
      "n_aria (x1000):  1000.2295 ± 0.002 \n",
      "n (teorico) (x1000):  1000.294\n",
      "t-test:  32.0\n",
      "errore relativo A:  0.008\n",
      "errore relativo m:  0.009\n",
      "errore relativo n:  2e-06\n"
     ]
    }
   ],
   "source": [
    "A,sigmaA = fit.bval['A'],fit.sigma_bval['A']\n",
    "\n",
    "m = λ/(2*d*A)\n",
    "sigmam = np.sqrt(((λ/(2*d*(A**2)))*sigmaA)**2 + ((λ/(2*(d**2)*A))*sigmad)**2)\n",
    "\n",
    "n = m*Patm + 1\n",
    "sigman = np.sqrt((sigmam*Patm)**2)# + (sigmaPatm*m)**2)\n",
    "\n",
    "print('m: ',final_val(m,sigmam,exp=-10,udm='Pa^-1'))\n",
    "\n",
    "n *= 1000\n",
    "sigman *= 1000\n",
    "print('n_aria (x1000): ',final_val(n,sigman,decimals=4))\n",
    "\n",
    "n = n/1000\n",
    "sigman = sigman/1000\n",
    "n_t = 1.000294 # teorico\n",
    "\n",
    "print('n (teorico) (x1000): ',n_t*1000)\n",
    "\n",
    "t = np.abs(n-n_t)/sigman\n",
    "\n",
    "print('t-test: ',np.round(t))\n",
    "\n",
    "print('errore relativo A: ',np.round(sigmaA/A,3))\n",
    "print('errore relativo m: ',np.round(sigmam/m,3))\n",
    "print('errore relativo n: ',np.round(sigman/n,6))"
   ]
  },
  {
   "cell_type": "markdown",
   "metadata": {},
   "source": [
    "L'indice di rifrazione atteso (mediante t-test) non è compatibile con il risultato atteso, ipotiziamo:\n",
    "- L'indice di rifrazione dell'aria teorico non considera l'umidità\n",
    "- L'incertezza è sottostimata:"
   ]
  }
 ],
 "metadata": {
  "kernelspec": {
   "display_name": "Python 3",
   "language": "python",
   "name": "python3"
  },
  "language_info": {
   "codemirror_mode": {
    "name": "ipython",
    "version": 3
   },
   "file_extension": ".py",
   "mimetype": "text/x-python",
   "name": "python",
   "nbconvert_exporter": "python",
   "pygments_lexer": "ipython3",
   "version": "3.10.12"
  }
 },
 "nbformat": 4,
 "nbformat_minor": 2
}
