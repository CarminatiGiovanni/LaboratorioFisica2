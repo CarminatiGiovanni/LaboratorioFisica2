{
 "cells": [
  {
   "cell_type": "markdown",
   "metadata": {},
   "source": [
    "# VOLTMETRO\n",
    "\n",
    "OBIETTIVO: stimare la resistenza interna del voltmetro\n",
    "\n",
    "PROCEDIMENTO: usando resistenze dell'ordine dei MΩ misuriamo la corrente di una resistenza equivalente data da $R_{eq} = \\frac{R_v R}{Rv + R}$"
   ]
  },
  {
   "cell_type": "code",
   "execution_count": 1,
   "metadata": {},
   "outputs": [],
   "source": [
    "import pandas as pd\n",
    "import numpy as np\n",
    "from matplotlib import pyplot as plt\n",
    "import os\n",
    "import sys\n",
    "\n",
    "dir_path = os.path.abspath('')\n",
    "sys.path.append(dir_path + '/../')\n",
    "\n",
    "from interpolazione import Interpolazione\n",
    "\n",
    "dir_path = os.path.abspath('')\n",
    "FILE = dir_path + '/data/' + 'voltmetro.csv'\n",
    "fr = pd.read_csv(FILE)\n",
    "\n",
    "R = np.array(fr['R(MOHM)']) * (10**6) #megaOHM # - 0.2 ohm non necessario\n",
    "sigmaRpercent = 0.01 # 1%\n",
    "sigmaR = R*sigmaRpercent\n",
    "\n",
    "I = np.array(fr['uA']) * (10**-6) #microAmpere\n",
    "sigmaIpercent = 0.01 # 1%\n",
    "sigmaI = I*sigmaIpercent\n",
    "\n",
    "V = 5.01 # mantenuta costante\n",
    "sigmaVpercent = 0.01 # 1%\n",
    "sigmaV = V*sigmaVpercent"
   ]
  },
  {
   "cell_type": "code",
   "execution_count": 2,
   "metadata": {},
   "outputs": [],
   "source": [
    "def final_val(x,sigma,decimals = 2,exp = 0, udm: str = '') -> str:\n",
    "    x = np.round(x*np.power(10.0,-exp),decimals)\n",
    "    sigma = np.round(sigma*np.power(10.0,-exp),decimals)\n",
    "    return f'{x} ± {sigma} {udm}' if exp == 0 else f'({x} ± {sigma})e{exp} {udm}'"
   ]
  },
  {
   "cell_type": "markdown",
   "metadata": {},
   "source": [
    "### stima e propagazione dell'errore"
   ]
  },
  {
   "cell_type": "code",
   "execution_count": 3,
   "metadata": {},
   "outputs": [],
   "source": [
    "Rv = (I/V - 1/R)**-1\n",
    "sigmaRv = (np.abs(I/V - 1/R)**-1) * np.sqrt((sigmaI/V)**2 + (I*sigmaV/(V**2)**2) + (sigmaR/(R**2))**2)\n",
    "\n",
    "# print(Rv,sigmaRv)\n",
    "\n",
    "N = len(Rv)\n",
    "w = 1/(sigmaRv**2)\n",
    "avg_Rv = np.average(Rv,weights=w)\n",
    "# print(np.sqrt(1/np.sum(w)))\n",
    "sigma_avg_Rv = np.sqrt(1/np.sum(w))\n",
    "# print(sigma_avg_Rv)"
   ]
  },
  {
   "cell_type": "code",
   "execution_count": 4,
   "metadata": {},
   "outputs": [
    {
     "name": "stdout",
     "output_type": "stream",
     "text": [
      "Rv:  (10.84591 ± 3e-05)e6 Ω\n"
     ]
    }
   ],
   "source": [
    "print('Rv: ',final_val(avg_Rv,sigma_avg_Rv,decimals=5,exp=6,udm='Ω'))"
   ]
  },
  {
   "cell_type": "markdown",
   "metadata": {},
   "source": [
    "# CORREZIONE GRAFICO\n",
    "non serve fare nessun grafico"
   ]
  },
  {
   "cell_type": "code",
   "execution_count": 8,
   "metadata": {},
   "outputs": [],
   "source": [
    "import pandas as pd\n",
    "import numpy as np\n",
    "from matplotlib import pyplot as plt\n",
    "import os\n",
    "import sys\n",
    "\n",
    "dir_path = os.path.abspath('')\n",
    "sys.path.append(dir_path + '/../')\n",
    "\n",
    "dir_path = os.path.abspath('')\n",
    "FILE = dir_path + '/data/' + 'voltmetro.csv'\n",
    "fr = pd.read_csv(FILE)\n",
    "\n",
    "R = np.array(fr['R(MOHM)']) * (10**6) #megaOHM # - 0.2 ohm non necessario\n",
    "sigmaRpercent = 0.01 # 1%\n",
    "sigmaR = R*sigmaRpercent\n",
    "\n",
    "I = np.array(fr['uA']) * (10**-6) #microAmpere\n",
    "sigmaIpercent = 0.01 # 1%\n",
    "sigmaI = I*sigmaIpercent\n",
    "\n",
    "V = 5.01 # mantenuta costante\n",
    "sigmaVpercent = 0.01 # 1%\n",
    "sigmaV = V*sigmaVpercent"
   ]
  },
  {
   "cell_type": "code",
   "execution_count": 13,
   "metadata": {},
   "outputs": [
    {
     "data": {
      "image/png": "[encoded data removed]",
      "text/plain": [
       "<Figure size 640x480 with 1 Axes>"
      ]
     },
     "metadata": {},
     "output_type": "display_data"
    }
   ],
   "source": [
    "req = 1/(1/Rv + 1/R)\n",
    "sigmaReq = np.sqrt((sigmaR**2)/(R**4) + (sigmaRv**2)/(Rv**4))\n",
    "i = V/req\n",
    "sigmai = np.sqrt((sigmaReq/req)**2)\n",
    "plt.errorbar(R,i,yerr=sigmai,label='valori attesi $R_V = 10.84M\\Omega$',color='red',marker='x',linestyle='None')\n",
    "plt.errorbar(R,I,xerr=sigmaR,yerr=sigmaI,label='Valori misurati',marker='.',ecolor='black',linestyle='None')\n",
    "plt.title('Resistenza interna voltmetro')\n",
    "plt.xlabel('R $\\Omega$')\n",
    "plt.ylabel('I Ampere')\n",
    "plt.legend()\n",
    "plt.show()"
   ]
  }
 ],
 "metadata": {
  "kernelspec": {
   "display_name": "Python 3",
   "language": "python",
   "name": "python3"
  },
  "language_info": {
   "codemirror_mode": {
    "name": "ipython",
    "version": 3
   },
   "file_extension": ".py",
   "mimetype": "text/x-python",
   "name": "python",
   "nbconvert_exporter": "python",
   "pygments_lexer": "ipython3",
   "version": "3.10.12"
  }
 },
 "nbformat": 4,
 "nbformat_minor": 2
}
