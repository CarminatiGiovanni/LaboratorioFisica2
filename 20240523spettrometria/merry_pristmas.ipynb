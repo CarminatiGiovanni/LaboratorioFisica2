{
 "cells": [
  {
   "cell_type": "markdown",
   "metadata": {},
   "source": [
    "# MISURAZIONE DIRETTA ANGOLO DI MINIMA DEVIAZIONE\n",
    "\n",
    "misurazioni fatte in data 24 maggio (OK DA METTERE NELLA RELAZIONE)\n",
    "\n",
    "1. ponendo il prisma sulla piattaforma e lampada ad Hg sono stati raccolti i valori degli angoli di minima deviazione $\\delta_m$ per le righe dello spettro\n",
    "\n",
    "#### CONSIDERAZIONI QUALITATIVE sulle linee osservate:\n",
    " - Rosso: poco visibile\n",
    " - Giallo: molto visibile\n",
    " - Verde: molto visibile\n",
    " - Acqua: abbastanza visibile (doppia)\n",
    " - Blu: molto visibile\n",
    " - Viola: raccolti i dati di due tonalità di viola ma poco visibili\n",
    "\n",
    "\n",
    "$\\sin{(\\frac{\\delta_m + \\alpha}{2})} = n \\cdot \\sin\\frac{\\alpha}{2}$\n",
    "\n",
    "$n(\\lambda) = a + \\frac{b}{\\lambda^2}$\n",
    "\n",
    "OBIETTIVO: stimare parametri _a,b_"
   ]
  },
  {
   "cell_type": "code",
   "execution_count": 1,
   "metadata": {},
   "outputs": [],
   "source": [
    "import pandas as pd\n",
    "import numpy as np\n",
    "from matplotlib import pyplot as plt\n",
    "import os\n",
    "import sys\n",
    "from jax import grad\n",
    "from jax import numpy as jnp\n",
    "\n",
    "dir_path = os.path.abspath('')\n",
    "sys.path.append(dir_path + '/../')\n",
    "\n",
    "from giopy import Interpolazione, final_val\n",
    "\n",
    "dir_path = os.path.abspath('')\n",
    "FILE = dir_path + '/data/' + 'prisma.csv'\n",
    "fr = pd.read_csv(FILE)\n",
    "fr = fr.sort_values('RIFLESSA deg')"
   ]
  },
  {
   "cell_type": "code",
   "execution_count": 2,
   "metadata": {},
   "outputs": [
    {
     "name": "stdout",
     "output_type": "stream",
     "text": [
      "λ (tabulati) (Hg) [nm]:  [615 579 546 491 436 405 392]\n",
      "Angolo minima deviazione [deg]:  [48.06 48.33 48.78 49.39 50.47 51.31 51.76]\n",
      "sigmaδm [deg]:  [0.24 0.22 0.3  0.24 0.23 0.23 0.41]\n"
     ]
    }
   ],
   "source": [
    "FILE = dir_path + '/data/' + 'prismaHg.csv'\n",
    "fr = pd.read_csv(FILE)\n",
    "\n",
    "α,sigmaα = np.float64(60.18),np.float64(0.35) # calcolati in angolo_alpha\n",
    "errore_lettura = 0.224 #0.18 # deg calcolato in errori\n",
    "\n",
    "# ROSSO deg ,ROSSO prim,GIALLO deg,GIALLO prim,VERDE deg,VERDE prim,ACQUA deg,ACQUA prim,BLU deg,BLU prim,VIOLA2 deg,VIOLA2 prim,VIOLA 1 deg,VIOLA 1 prim\n",
    "\n",
    "rosso = np.array(fr['ROSSO deg'] + fr['ROSSO prim']/60)\n",
    "verde = np.array(fr['VERDE deg'] + fr['VERDE prim']/60)\n",
    "blu = np.array(fr['BLU deg'] + fr['BLU prim']/60)\n",
    "viola1 = np.array(fr['VIOLA 1 deg'] + fr['VIOLA 1 prim']/60)\n",
    "viola2 = np.array(fr['VIOLA2 deg'] + fr['VIOLA2 prim']/60)\n",
    "acqua = np.array(fr['ACQUA deg'] +  fr['ACQUA prim']/60)\n",
    "giallo = np.array(fr['GIALLO deg'] + fr['GIALLO prim']/60)\n",
    "\n",
    "rossom, sigmarosso = np.mean(rosso), np.std(rosso, ddof=1)\n",
    "verdem, sigmaverde = np.mean(verde), np.std(verde, ddof=1)\n",
    "blum, sigmablu = np.mean(blu), np.std(blu, ddof=1)\n",
    "viola1m, sigmaviola1 = np.mean(viola1), np.std(viola1, ddof=1)\n",
    "viola2m, sigmaviola2 = np.mean(viola2), np.std(viola2, ddof=1)\n",
    "acquam, sigmaacqua = np.mean(acqua), np.std(acqua, ddof=1)\n",
    "giallom, sigmagiallo = np.mean(giallo), np.std(giallo, ddof=1)\n",
    "\n",
    "FILE = dir_path + '/data/' + 'LINEE_SPETTRO_Hg.csv'\n",
    "fr = pd.read_csv(FILE)\n",
    "fr.set_index('colore',inplace=True)\n",
    "fr = fr.sort_values('λ (nm)',ascending=False)\n",
    "\n",
    "# ESCLUDO I VIOLA IN QUANTO DIFFICILMENTE VISIBLI\n",
    "\n",
    "λ_Hg = np.array(fr['λ (nm)'])#[:-1] # * (10**-9) # nm\n",
    "sigmaλ_Hg = np.array(fr['sigmaλ'])#[:-1] # * (10**-9)\n",
    "\n",
    "# misurati sperimentalmente\n",
    "δm = 360 - np.array([rossom,giallom,verdem,acquam,blum,viola2m,viola1m]) # ,viola1m,viola2m])\n",
    "sigmaδm = np.sqrt((np.array([sigmarosso,sigmagiallo,sigmaverde,sigmaacqua,sigmablu,sigmaviola2,sigmaviola1]))**2 + errore_lettura**2) # sommo in quadratura con valore trovato in errori \n",
    "\n",
    "print('λ (tabulati) (Hg) [nm]: ',λ_Hg)\n",
    "# print('sigmaλ (Hg) [nm]: ',sigmaλ_Hg)\n",
    "print('Angolo minima deviazione [deg]: ',np.round(δm,2))\n",
    "print('sigmaδm [deg]: ',np.round(sigmaδm,2))"
   ]
  },
  {
   "cell_type": "markdown",
   "metadata": {},
   "source": [
    "__NOTA:__ le incertezze relative a $\\theta$ sono state calcolate a partire dai 3 valori raccolti per ogni angolo, non è stato necessario usare lo studio fatto in _errori.ipynb_"
   ]
  },
  {
   "cell_type": "code",
   "execution_count": 3,
   "metadata": {},
   "outputs": [
    {
     "name": "stdout",
     "output_type": "stream",
     "text": [
      "n:  [0.93388 0.93551 0.93812 0.94167 0.94791 0.95269 0.95523]  ±  [2.3e-04 1.0e-04 4.9e-04 1.5e-04 1.0e-05 7.0e-05 9.4e-04]\n"
     ]
    }
   ],
   "source": [
    "\n",
    "\n",
    "def indice_rifrazione(δm,α): # α = 60.18, δm = angolo minima deviazione\n",
    "    return jnp.sin((δm + α)/2 * jnp.pi/180) / jnp.sin(α*jnp.pi/180)\n",
    "\n",
    "def sigma_indice_rifrazione(δm,sigmaδm,α,sigmaα):\n",
    "    didn = np.array([grad(indice_rifrazione,argnums=0)(i,α) for i in δm])\n",
    "    dida = np.array([grad(indice_rifrazione,argnums=1)(i,α) for i in δm])\n",
    "    return jnp.sqrt((didn * sigmaδm)**2 + (dida * sigmaα)**2 + 2*didn*dida*sigmaα*sigmaδm) # covarianza non trascurata\n",
    "\n",
    "n = indice_rifrazione(δm,α)\n",
    "sigman = sigma_indice_rifrazione(δm,sigmaδm,α,sigmaα)\n",
    "\n",
    "print('n: ',np.round(n,5),' ± ',np.round(sigman,5))"
   ]
  },
  {
   "cell_type": "code",
   "execution_count": 4,
   "metadata": {},
   "outputs": [
    {
     "name": "stdout",
     "output_type": "stream",
     "text": [
      "----------------- VALORI FIT: -----------------\n",
      "a: (9.191 ± 0.002)e-1 \n",
      "b: (5.486 ± 0.033)e3 \n",
      "\n",
      "dof: 5\n",
      "chi2: 13.43\n",
      "chi2 ridotto: 2.69\n",
      "pvalue: 0.02\n",
      "------------------------------------------------\n",
      "\n"
     ]
    },
    {
     "data": {
      "text/html": [
       "<table>\n",
       "    <tr>\n",
       "        <th colspan=\"2\" style=\"text-align:center\" title=\"Minimizer\"> Migrad </th>\n",
       "    </tr>\n",
       "    <tr>\n",
       "        <td style=\"text-align:left\" title=\"Minimum value of function\"> FCN = 13.43 </td>\n",
       "        <td style=\"text-align:center\" title=\"Total number of function and (optional) gradient evaluations\"> Nfcn = 59 </td>\n",
       "    </tr>\n",
       "    <tr>\n",
       "        <td style=\"text-align:left\" title=\"Estimated distance to minimum and goal\"> EDM = 3.91e-14 (Goal: 0.0002) </td>\n",
       "        <td style=\"text-align:center\" title=\"Total run time of algorithms\">  </td>\n",
       "    </tr>\n",
       "    <tr>\n",
       "        <td style=\"text-align:center;background-color:#92CCA6;color:black\"> Valid Minimum </td>\n",
       "        <td style=\"text-align:center;background-color:#92CCA6;color:black\"> Below EDM threshold (goal x 10) </td>\n",
       "    </tr>\n",
       "    <tr>\n",
       "        <td style=\"text-align:center;background-color:#92CCA6;color:black\"> No parameters at limit </td>\n",
       "        <td style=\"text-align:center;background-color:#92CCA6;color:black\"> Below call limit </td>\n",
       "    </tr>\n",
       "    <tr>\n",
       "        <td style=\"text-align:center;background-color:#92CCA6;color:black\"> Hesse ok </td>\n",
       "        <td style=\"text-align:center;background-color:#92CCA6;color:black\"> Covariance accurate </td>\n",
       "    </tr>\n",
       "</table><table>\n",
       "    <tr>\n",
       "        <td></td>\n",
       "        <th title=\"Variable name\"> Name </th>\n",
       "        <th title=\"Value of parameter\"> Value </th>\n",
       "        <th title=\"Hesse error\"> Hesse Error </th>\n",
       "        <th title=\"Minos lower error\"> Minos Error- </th>\n",
       "        <th title=\"Minos upper error\"> Minos Error+ </th>\n",
       "        <th title=\"Lower limit of the parameter\"> Limit- </th>\n",
       "        <th title=\"Upper limit of the parameter\"> Limit+ </th>\n",
       "        <th title=\"Is the parameter fixed in the fit\"> Fixed </th>\n",
       "    </tr>\n",
       "    <tr>\n",
       "        <th> 0 </th>\n",
       "        <td> a </td>\n",
       "        <td> 919.06e-3 </td>\n",
       "        <td> 0.17e-3 </td>\n",
       "        <td>  </td>\n",
       "        <td>  </td>\n",
       "        <td>  </td>\n",
       "        <td>  </td>\n",
       "        <td>  </td>\n",
       "    </tr>\n",
       "    <tr>\n",
       "        <th> 1 </th>\n",
       "        <td> b </td>\n",
       "        <td> 5.486e3 </td>\n",
       "        <td> 0.033e3 </td>\n",
       "        <td>  </td>\n",
       "        <td>  </td>\n",
       "        <td>  </td>\n",
       "        <td>  </td>\n",
       "        <td>  </td>\n",
       "    </tr>\n",
       "</table><table>\n",
       "    <tr>\n",
       "        <td></td>\n",
       "        <th> a </th>\n",
       "        <th> b </th>\n",
       "    </tr>\n",
       "    <tr>\n",
       "        <th> a </th>\n",
       "        <td> 3.05e-08 </td>\n",
       "        <td style=\"background-color:rgb(120,120,250);color:black\"> -5.797691e-3 <strong>(-1.000)</strong> </td>\n",
       "    </tr>\n",
       "    <tr>\n",
       "        <th> b </th>\n",
       "        <td style=\"background-color:rgb(120,120,250);color:black\"> -5.797691e-3 <strong>(-1.000)</strong> </td>\n",
       "        <td> 1.1e+03 </td>\n",
       "    </tr>\n",
       "</table>"
      ],
      "text/plain": [
       "┌─────────────────────────────────────────────────────────────────────────┐\n",
       "│                                Migrad                                   │\n",
       "├──────────────────────────────────┬──────────────────────────────────────┤\n",
       "│ FCN = 13.43                      │              Nfcn = 59               │\n",
       "│ EDM = 3.91e-14 (Goal: 0.0002)    │                                      │\n",
       "├──────────────────────────────────┼──────────────────────────────────────┤\n",
       "│          Valid Minimum           │   Below EDM threshold (goal x 10)    │\n",
       "├──────────────────────────────────┼──────────────────────────────────────┤\n",
       "│      No parameters at limit      │           Below call limit           │\n",
       "├──────────────────────────────────┼──────────────────────────────────────┤\n",
       "│             Hesse ok             │         Covariance accurate          │\n",
       "└──────────────────────────────────┴──────────────────────────────────────┘\n",
       "┌───┬──────┬───────────┬───────────┬────────────┬────────────┬─────────┬─────────┬───────┐\n",
       "│   │ Name │   Value   │ Hesse Err │ Minos Err- │ Minos Err+ │ Limit-  │ Limit+  │ Fixed │\n",
       "├───┼──────┼───────────┼───────────┼────────────┼────────────┼─────────┼─────────┼───────┤\n",
       "│ 0 │ a    │ 919.06e-3 │  0.17e-3  │            │            │         │         │       │\n",
       "│ 1 │ b    │  5.486e3  │  0.033e3  │            │            │         │         │       │\n",
       "└───┴──────┴───────────┴───────────┴────────────┴────────────┴─────────┴─────────┴───────┘\n",
       "┌───┬───────────────────────────┐\n",
       "│   │            a            b │\n",
       "├───┼───────────────────────────┤\n",
       "│ a │     3.05e-08 -5.797691e-3 │\n",
       "│ b │ -5.797691e-3      1.1e+03 │\n",
       "└───┴───────────────────────────┘"
      ]
     },
     "metadata": {},
     "output_type": "display_data"
    },
    {
     "data": {
      "image/png": "[encoded data removed]",
      "text/plain": [
       "<Figure size 640x480 with 1 Axes>"
      ]
     },
     "metadata": {},
     "output_type": "display_data"
    }
   ],
   "source": [
    "######################## stima parametri a , b ############################\n",
    "\n",
    "def indice_rifrazione_lambda(λ,a,b):\n",
    "    return a + b/(λ**2)\n",
    "\n",
    "fit = Interpolazione(λ_Hg, n, sigman, np.zeros_like(λ_Hg), indice_rifrazione_lambda, [0.921, 5400\t], names=['a','b'])\n",
    "print(fit)\n",
    "display(fit.m)\n",
    "\n",
    "plt.errorbar(fit.X,fit.Y,yerr=fit.sigmaY,xerr=fit.sigmaX,fmt='o',label='data Hg')\n",
    "plt.xlabel('λ [nm]')\n",
    "plt.ylabel('indice di rifrazione')\n",
    "plt.plot(*fit.draw(),label='fit')\n",
    "plt.legend()\n",
    "plt.show()"
   ]
  },
  {
   "cell_type": "markdown",
   "metadata": {},
   "source": [
    "# GAS IGNOTO CON PRISMA:\n",
    "\n",
    "$\\lambda = \\sqrt{\\frac{b}{n - a}} $"
   ]
  },
  {
   "cell_type": "markdown",
   "metadata": {},
   "source": [
    "rivedere incertezze n, togliere quella a zero e riprovare con covarianza"
   ]
  },
  {
   "cell_type": "code",
   "execution_count": 5,
   "metadata": {},
   "outputs": [
    {
     "name": "stdout",
     "output_type": "stream",
     "text": [
      "δm [51.25       50.41666667 49.33333333 48.33333333 48.66666667]\n",
      "n:  [0.95234381 0.94759697 0.94135121 0.93551119 0.9374658 ]\n",
      "λ [nm]:  [405.97 438.43 496.06 577.42 545.91] ± [0.53 0.24 0.6  2.16 1.47] nm\n"
     ]
    },
    {
     "data": {
      "image/png": "[encoded data removed]",
      "text/plain": [
       "<Figure size 640x480 with 1 Axes>"
      ]
     },
     "metadata": {},
     "output_type": "display_data"
    }
   ],
   "source": [
    "FILE = dir_path + '/data/' + 'prisma_gas_incognito.csv'\n",
    "\n",
    "fr = pd.read_csv(FILE)\n",
    "fr.set_index('colore',inplace=True)\n",
    "fr = fr.sort_values('DEG')\n",
    "\n",
    "δm = 360 - np.array(fr['DEG'] + fr['PRIM']/60)\n",
    "sigmaδm = np.ones_like(δm) * errore_lettura # proveniente da errori\n",
    "\n",
    "n = indice_rifrazione(δm,α) # funzione definita sopra\n",
    "sigman = sigma_indice_rifrazione(δm,sigmaδm,α,sigmaα) # funzione definita sopra\n",
    "\n",
    "def lambda_from_indice_rifrazione(n,a = fit.values['a'],b = fit.values['b']):\n",
    "    return jnp.sqrt(b/(n - a))\n",
    "\n",
    "def sigma_indice_rifrazione_lambda(n,sigman,sigmaa,sigmab,a = fit.values['a'],b = fit.values['b'],sigmaab = fit.covariance[0][1]):\n",
    "    dda = np.array([grad(lambda_from_indice_rifrazione, argnums=1)(i,a,b) for i in n])\n",
    "    ddb = np.array([grad(lambda_from_indice_rifrazione, argnums=2)(i,a,b) for i in n])\n",
    "    ddn = np.array([grad(lambda_from_indice_rifrazione, argnums=0)(i,a,b) for i in n])\n",
    "    return jnp.sqrt((dda * sigmaa)**2 + (ddb * sigmab)**2 + (ddn * sigman)**2 + 2 * dda * ddb * sigmaab)\n",
    "\n",
    "λ_ignoto = lambda_from_indice_rifrazione(n)\n",
    "sigmaλ_ignoto = sigma_indice_rifrazione_lambda(n,sigman,fit.errors['a'],fit.errors['b'])\n",
    "\n",
    "print('δm',δm)\n",
    "print('n: ',n)\n",
    "print('λ [nm]: ',final_val(λ_ignoto,sigmaλ_ignoto,2,udm='nm'))\n",
    "\n",
    "dir_path = os.path.abspath('')\n",
    "sys.path.append(dir_path + '/')\n",
    "from spectra_reppresentation import wave2rgb\n",
    "\n",
    "color = np.array([wave2rgb(l) for l in λ_ignoto])\n",
    "\n",
    "\n",
    "for i,l,c,sl,sn in zip(n,λ_ignoto,color,sigmaλ_ignoto,sigman):\n",
    "    plt.errorbar(i,l,yerr=sl,xerr=sn,fmt='o',color=c)\n",
    "    \n",
    "plt.xlabel('indice di rifrazione')\n",
    "plt.ylabel('λ [nm]')\n",
    "plt.show()\n",
    "\n"
   ]
  },
  {
   "cell_type": "code",
   "execution_count": 6,
   "metadata": {},
   "outputs": [
    {
     "data": {
      "image/png": "[encoded data removed]",
      "text/plain": [
       "<Figure size 1000x100 with 1 Axes>"
      ]
     },
     "metadata": {},
     "output_type": "display_data"
    },
    {
     "data": {
      "image/png": "[encoded data removed]",
      "text/plain": [
       "<Figure size 1000x100 with 1 Axes>"
      ]
     },
     "metadata": {},
     "output_type": "display_data"
    }
   ],
   "source": [
    "dir_path = os.path.abspath('')\n",
    "sys.path.append(dir_path + '/')\n",
    "from spectra_reppresentation import draw_spectrum\n",
    "\n",
    "draw_spectrum(λ_ignoto,sigmaλ_ignoto,ytitle='incognito')\n",
    "draw_spectrum(λ_Hg,ytitle='Hg')"
   ]
  },
  {
   "cell_type": "code",
   "execution_count": 7,
   "metadata": {},
   "outputs": [
    {
     "name": "stdout",
     "output_type": "stream",
     "text": [
      "chi2:  893.769\n",
      "df:  3\n",
      "rchi2:  297.92\n",
      "pvalue:  0.0\n"
     ]
    }
   ],
   "source": [
    "# QUANTIFICAZIONE COMPATIBILITA':\n",
    "from scipy.stats import chi2 as chi2f\n",
    "λ_Hg =  np.sort(λ_Hg[1:-1]) # ocio che ricompilando taglia ulteriormente e da errore, bisogna fare restart\n",
    "chi2 = np.sum(((λ_Hg - λ_ignoto)/sigmaλ_ignoto)**2)\n",
    "df = len(λ_Hg) - 2\n",
    "pvalue = np.round(chi2f.sf(chi2,df),3)\n",
    "\n",
    "print('chi2: ',np.round(chi2,3))\n",
    "print('df: ',df)\n",
    "print('rchi2: ',np.round(chi2/df,2))\n",
    "print('pvalue: ',pvalue)\n"
   ]
  },
  {
   "cell_type": "markdown",
   "metadata": {},
   "source": [
    "sopra lo spettro del gas ignoto sotto quello dell'Hg\n",
    "\n",
    "I due spettri sono compatibili fra loro\n",
    "\n",
    "__NOTA__: è probabile che le tonalità di viola osservate siano poco attendibili (viola1 e viola2). Effettivamente sono presenti righe in quella regione ma poco visibili, potrebbe esserci un bias nella scelta dei valori di $\\lambda$"
   ]
  },
  {
   "cell_type": "markdown",
   "metadata": {},
   "source": [
    "# INCOGNITO 2:"
   ]
  },
  {
   "cell_type": "code",
   "execution_count": 8,
   "metadata": {},
   "outputs": [
    {
     "name": "stdout",
     "output_type": "stream",
     "text": [
      "λ_ignoto:  [662. 577. 546. 486. 463.]  ±  [4. 2. 1. 0. 0.]\n"
     ]
    },
    {
     "data": {
      "image/png": "[encoded data removed]",
      "text/plain": [
       "<Figure size 1000x100 with 1 Axes>"
      ]
     },
     "metadata": {},
     "output_type": "display_data"
    }
   ],
   "source": [
    "FILE = dir_path + '/data/' + 'incognito2.csv'\n",
    "\n",
    "fr = pd.read_csv(FILE)\n",
    "fr.set_index('strumento',inplace=True)\n",
    "fr = fr.loc['PRISMA']\n",
    "\n",
    "rosso = np.array(fr['ROSSOdeg'] + fr['ROSSOprim']/60)\n",
    "giallo = np.array(fr['GIALLOdeg'] + fr['GIALLOprim']/60)\n",
    "verde = np.array(fr['VERDEdeg'] + fr['VERDEprim']/60)\n",
    "azzurro = np.array(fr['AZZURROdeg'] + fr['AZZURROprim']/60)\n",
    "blu = np.array(fr['BLUdeg'] + fr['BLUprim']/60)\n",
    "\n",
    "δm = np.array([rosso,giallo,verde,azzurro,blu])\n",
    "δm = 360 - δm\n",
    "σδm = np.ones_like(δm) * errore_lettura # incertezza proveniente da errori\n",
    "\n",
    "n = indice_rifrazione(δm,α)\n",
    "sigman = sigma_indice_rifrazione(δm,σδm,α,sigmaα)\n",
    "\n",
    "λ_ignoto = lambda_from_indice_rifrazione(n)\n",
    "σλ_ignoto = sigma_indice_rifrazione_lambda(n,sigman,fit.errors['a'],fit.errors['b'])\n",
    "\n",
    "print('λ_ignoto: ',np.round(λ_ignoto),' ± ',np.round(σλ_ignoto))\n",
    "\n",
    "draw_spectrum(λ_ignoto,σλ_ignoto,ytitle='incognito')"
   ]
  }
 ],
 "metadata": {
  "kernelspec": {
   "display_name": "Python 3",
   "language": "python",
   "name": "python3"
  },
  "language_info": {
   "codemirror_mode": {
    "name": "ipython",
    "version": 3
   },
   "file_extension": ".py",
   "mimetype": "text/x-python",
   "name": "python",
   "nbconvert_exporter": "python",
   "pygments_lexer": "ipython3",
   "version": "3.10.12"
  }
 },
 "nbformat": 4,
 "nbformat_minor": 2
}
