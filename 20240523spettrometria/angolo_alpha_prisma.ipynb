{
 "cells": [
  {
   "cell_type": "markdown",
   "metadata": {},
   "source": [
    "# CALCOLO ANGOLO $\\alpha$ del prisma:\n",
    "\n",
    "il prisma è stato posto sulla piattaforma rotante. Sono stati presi i valori degli angoli in cui la luce veniva riflessa (Sara ho palesemente dimenticato come funzionava questa parte)"
   ]
  },
  {
   "cell_type": "code",
   "execution_count": 1,
   "metadata": {},
   "outputs": [],
   "source": [
    "import pandas as pd\n",
    "import numpy as np\n",
    "from matplotlib import pyplot as plt\n",
    "import os\n",
    "import sys\n",
    "\n",
    "dir_path = os.path.abspath('')\n",
    "sys.path.append(dir_path + '/../')\n",
    "\n",
    "from giopy import Interpolazione, final_val\n",
    "\n",
    "dir_path = os.path.abspath('')\n",
    "FILE = dir_path + '/data/' + 'alpha.csv'\n",
    "fr = pd.read_csv(FILE)"
   ]
  },
  {
   "cell_type": "code",
   "execution_count": 2,
   "metadata": {},
   "outputs": [
    {
     "name": "stdout",
     "output_type": "stream",
     "text": [
      "α:  60.18 ± 0.35 deg\n"
     ]
    }
   ],
   "source": [
    "faccia1 = np.array(fr['FACCIA1deg'] + fr['FACCIA1prim']/60)\n",
    "faccia2 = np.array(fr['FACCIA2deg'] + fr['FACCIA2prim']/60)\n",
    "\n",
    "α = np.abs(faccia1-faccia2)\n",
    "N = len(α)\n",
    "\n",
    "αm = np.mean(α)\n",
    "sigmaα = np.std(α) * N/(N-1) # correzione di bessel utile per 3 dati\n",
    "\n",
    "print('α: ', final_val(αm,sigmaα,2,udm='deg'))"
   ]
  }
 ],
 "metadata": {
  "kernelspec": {
   "display_name": "Python 3",
   "language": "python",
   "name": "python3"
  },
  "language_info": {
   "codemirror_mode": {
    "name": "ipython",
    "version": 3
   },
   "file_extension": ".py",
   "mimetype": "text/x-python",
   "name": "python",
   "nbconvert_exporter": "python",
   "pygments_lexer": "ipython3",
   "version": "3.10.12"
  }
 },
 "nbformat": 4,
 "nbformat_minor": 2
}
