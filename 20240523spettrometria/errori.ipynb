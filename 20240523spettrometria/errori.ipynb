{
 "cells": [
  {
   "cell_type": "markdown",
   "metadata": {},
   "source": [
    "# STUDIO DELL'ERRORE per determinare $\\sigma_\\theta$\n",
    "\n",
    "Ponendo angoli randomici ognuno di noi ha letto lo stesso valore"
   ]
  },
  {
   "cell_type": "code",
   "execution_count": 1,
   "metadata": {},
   "outputs": [],
   "source": [
    "import pandas as pd\n",
    "import numpy as np\n",
    "from matplotlib import pyplot as plt\n",
    "import os\n",
    "import sys\n",
    "\n",
    "dir_path = os.path.abspath('')\n",
    "sys.path.append(dir_path + '/../')\n",
    "\n",
    "from giopy import Interpolazione, final_val\n",
    "\n",
    "dir_path = os.path.abspath('')\n",
    "FILE = dir_path + '/data/' + 'errori.csv'\n",
    "fr = pd.read_csv(FILE)"
   ]
  },
  {
   "cell_type": "markdown",
   "metadata": {},
   "source": [
    "##### Conversione primi-radianti"
   ]
  },
  {
   "cell_type": "code",
   "execution_count": 2,
   "metadata": {},
   "outputs": [],
   "source": [
    "# SARA deg,SARA prim,LUCA deg,LUCA prim,GIO deg,GIO prim\n",
    "# TODO: controllare proporzione\n",
    "\n",
    "gio = np.array(fr['GIO deg'] + 0.1 * fr['GIO prim']/6) #* np.pi/180\n",
    "sara = np.array(fr['SARA deg'] + 0.1 * fr['SARA prim']/6) #* np.pi/180\n",
    "luca = np.array(fr['LUCA deg'] + 0.1 * fr['LUCA prim']/6) # * np.pi/180"
   ]
  },
  {
   "cell_type": "code",
   "execution_count": 3,
   "metadata": {},
   "outputs": [
    {
     "name": "stdout",
     "output_type": "stream",
     "text": [
      "Gio:  0.10707070707070798 deg\n",
      "Sara:  0.1772727272727246 deg\n",
      "Luca:  0.1136363636363659 deg\n"
     ]
    }
   ],
   "source": [
    "avg = np.array([np.mean([g,s,l]) for s,g,l in zip(gio,sara,luca)])\n",
    "delta_gio = np.abs(avg - gio)\n",
    "delta_sara = np.abs(avg - sara)\n",
    "delta_luca = np.abs(avg - luca)\n",
    "\n",
    "sigma_gio = np.mean(delta_gio)\n",
    "sigma_sara = np.mean(delta_sara)\n",
    "sigma_luca = np.mean(delta_luca)\n",
    "\n",
    "print('Gio: ',sigma_gio,'deg\\nSara: ', sigma_sara,'deg\\nLuca: ', sigma_luca,'deg')"
   ]
  },
  {
   "cell_type": "code",
   "execution_count": 6,
   "metadata": {},
   "outputs": [
    {
     "name": "stdout",
     "output_type": "stream",
     "text": [
      "sigmaθ (medio):  0.044 deg\n"
     ]
    }
   ],
   "source": [
    "# INCERTEZZA: \n",
    "incertezza = np.mean([sigma_gio,sigma_sara,sigma_luca])\n",
    "print('sigmaθ (medio): ', np.round(incertezza/3,3),'deg')"
   ]
  }
 ],
 "metadata": {
  "kernelspec": {
   "display_name": "Python 3",
   "language": "python",
   "name": "python3"
  },
  "language_info": {
   "codemirror_mode": {
    "name": "ipython",
    "version": 3
   },
   "file_extension": ".py",
   "mimetype": "text/x-python",
   "name": "python",
   "nbconvert_exporter": "python",
   "pygments_lexer": "ipython3",
   "version": "3.10.12"
  }
 },
 "nbformat": 4,
 "nbformat_minor": 2
}
