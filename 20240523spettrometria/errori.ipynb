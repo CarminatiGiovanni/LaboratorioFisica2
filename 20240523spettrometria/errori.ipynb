{
 "cells": [
  {
   "cell_type": "markdown",
   "metadata": {},
   "source": [
    "# STUDIO DELL'ERRORE $\\sigma_\\theta$\n",
    "\n",
    "Ponendo angoli randomici ognuno di noi ha letto lo stesso valore; l'obiettivo è di stimare l'incertezza associata alla lettura del valore dell'angolo"
   ]
  },
  {
   "cell_type": "code",
   "execution_count": 9,
   "metadata": {},
   "outputs": [],
   "source": [
    "import pandas as pd\n",
    "import numpy as np\n",
    "import matplotlib.pyplot as plt\n",
    "import os\n",
    "import sys\n",
    "\n",
    "dir_path = os.path.abspath('')\n",
    "sys.path.append(dir_path + '/../')\n",
    "\n",
    "dir_path = os.path.abspath('')\n",
    "FILE = dir_path + '/data/' + 'errori.csv'\n",
    "fr = pd.read_csv(FILE)"
   ]
  },
  {
   "cell_type": "markdown",
   "metadata": {},
   "source": [
    "##### Conversione primi-radianti"
   ]
  },
  {
   "cell_type": "code",
   "execution_count": 2,
   "metadata": {},
   "outputs": [],
   "source": [
    "# SARA deg,SARA prim,LUCA deg,LUCA prim,GIO deg,GIO prim\n",
    "\n",
    "gio = np.array(fr['GIO deg'] +  fr['GIO prim']/60)\n",
    "sara = np.array(fr['SARA deg'] + fr['SARA prim']/60)\n",
    "luca = np.array(fr['LUCA deg'] + fr['LUCA prim']/60)"
   ]
  },
  {
   "cell_type": "code",
   "execution_count": 8,
   "metadata": {},
   "outputs": [
    {
     "name": "stdout",
     "output_type": "stream",
     "text": [
      "Media delle deviazioni standard: 0.2239883684243746\n",
      "\n",
      "Distanza media dal valore centrale (solo per veder che Sara prende le misure peggiori):\n",
      "Gio:  0.10707070707070798 deg\n",
      "Sara:  0.1772727272727246 deg\n",
      "Luca:  0.1136363636363659 deg\n"
     ]
    }
   ],
   "source": [
    "avg = np.array([np.mean([g,s,l]) for s,g,l in zip(gio,sara,luca)]) # angolo medio\n",
    "std = np.mean([np.std([g,s,l])*3/2 for s,g,l in zip(gio,sara,luca)]) # media delle deviazioni standard (applicate con correzione di Bessel)\n",
    "\n",
    "print('Media delle deviazioni standard:',std)\n",
    "print()\n",
    "print('Distanza media dal valore centrale (solo per veder che Sara prende le misure peggiori):')\n",
    "delta_gio = np.abs(avg - gio)\n",
    "delta_sara = np.abs(avg - sara)\n",
    "delta_luca = np.abs(avg - luca)\n",
    "\n",
    "sigma_gio = np.mean(delta_gio)\n",
    "sigma_sara = np.mean(delta_sara)\n",
    "sigma_luca = np.mean(delta_luca)\n",
    "\n",
    "print('Gio: ',sigma_gio,'deg\\nSara: ', sigma_sara,'deg\\nLuca: ', sigma_luca,'deg')"
   ]
  },
  {
   "cell_type": "code",
   "execution_count": 38,
   "metadata": {},
   "outputs": [
    {
     "data": {
      "image/png": "[encoded data removed]",
      "text/plain": [
       "<Figure size 1000x100 with 1 Axes>"
      ]
     },
     "metadata": {},
     "output_type": "display_data"
    }
   ],
   "source": [
    "# set up the figure\n",
    "height = 1\n",
    "width = 10 * height\n",
    "fig = plt.figure(figsize=(width, height))\n",
    "ax = fig.add_subplot(111)\n",
    "ax.set_xlim(0,180)\n",
    "ax.set_ylim(0,10)\n",
    "\n",
    "# draw lines\n",
    "xticks = np.array([0, 30, 60, 90, 120, 150, 180])\n",
    "y = 5 * np.ones_like(xticks)\n",
    "height = 2\n",
    "\n",
    "plt.hlines(y, 0, 180,color='black')\n",
    "plt.vlines(xticks, y - height / 2., y + height / 2.,color='black')\n",
    "plt.vlines(xticks, y - height / 2., y + height / 2.,color='black')\n",
    "\n",
    "for i in xticks:\n",
    "    plt.text(i, 2, str(i), horizontalalignment='center')\n",
    "\n",
    "px = 4\n",
    "plt.plot(avg,5*np.ones_like(avg), 'ro', ms = 6, mfc = 'r')\n",
    "\n",
    "plt.axis('off')\n",
    "plt.show()"
   ]
  },
  {
   "cell_type": "code",
   "execution_count": 39,
   "metadata": {},
   "outputs": [
    {
     "name": "stdout",
     "output_type": "stream",
     "text": [
      "sigmaθ (medio):  0.224 deg =  13.44  min\n",
      "sigmaθ (medio):  0.003909 rad\n"
     ]
    }
   ],
   "source": [
    "# INCERTEZZA: \n",
    "incertezza = np.mean(std)\n",
    "print('sigmaθ (medio): ', np.round(incertezza,3),'deg = ',np.round(incertezza*60,2),' min')\n",
    "print('sigmaθ (medio): ', np.round(np.radians(incertezza),6),'rad')"
   ]
  }
 ],
 "metadata": {
  "kernelspec": {
   "display_name": "Python 3",
   "language": "python",
   "name": "python3"
  },
  "language_info": {
   "codemirror_mode": {
    "name": "ipython",
    "version": 3
   },
   "file_extension": ".py",
   "mimetype": "text/x-python",
   "name": "python",
   "nbconvert_exporter": "python",
   "pygments_lexer": "ipython3",
   "version": "3.10.12"
  }
 },
 "nbformat": 4,
 "nbformat_minor": 2
}
