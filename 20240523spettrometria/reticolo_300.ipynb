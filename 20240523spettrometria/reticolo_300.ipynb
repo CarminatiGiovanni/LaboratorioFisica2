{
 "cells": [
  {
   "cell_type": "markdown",
   "metadata": {},
   "source": [
    "# RETICOLO con passo 300\n",
    "\n",
    "$d\\sin\\theta = n\\lambda$ con n numero intero"
   ]
  },
  {
   "cell_type": "code",
   "execution_count": 26,
   "metadata": {},
   "outputs": [],
   "source": [
    "import pandas as pd\n",
    "import numpy as np\n",
    "from matplotlib import pyplot as plt\n",
    "import os\n",
    "import sys\n",
    "from jax import grad\n",
    "from jax import numpy as jnp\n",
    "\n",
    "dir_path = os.path.abspath('')\n",
    "sys.path.append(dir_path + '/../')\n",
    "\n",
    "from giopy import Interpolazione, final_val\n",
    "\n",
    "dir_path = os.path.abspath('')\n",
    "FILE = dir_path + '/data/' + 'reticolo_300.csv'\n",
    "fr = pd.read_csv(FILE)\n",
    "fr = fr.set_index('colore')"
   ]
  },
  {
   "cell_type": "code",
   "execution_count": 27,
   "metadata": {},
   "outputs": [],
   "source": [
    "def formatter(data) -> dict:\n",
    "    keys = ['n1','n2','n3','-n1','-n2','-n3']\n",
    "    d = {}\n",
    "    for i in range(0,len(data),2): # i = gradi, i+1 = primi\n",
    "        d[keys[int(i/2)]] = np.float64(data[i] + data[i+1]/60)\n",
    "    return d\n",
    "\n",
    "giallo = formatter(fr.loc['GIALLO']) # come argomento passo una la riga\n",
    "verde = formatter(fr.loc['VERDE'])\n",
    "acqua = formatter(fr.loc['ACQUA'])"
   ]
  },
  {
   "cell_type": "markdown",
   "metadata": {},
   "source": [
    "$d = \\frac{n\\lambda}{\\sin\\theta}$"
   ]
  },
  {
   "cell_type": "code",
   "execution_count": null,
   "metadata": {},
   "outputs": [],
   "source": []
  }
 ],
 "metadata": {
  "kernelspec": {
   "display_name": "Python 3",
   "language": "python",
   "name": "python3"
  },
  "language_info": {
   "codemirror_mode": {
    "name": "ipython",
    "version": 3
   },
   "file_extension": ".py",
   "mimetype": "text/x-python",
   "name": "python",
   "nbconvert_exporter": "python",
   "pygments_lexer": "ipython3",
   "version": "3.10.12"
  }
 },
 "nbformat": 4,
 "nbformat_minor": 2
}
