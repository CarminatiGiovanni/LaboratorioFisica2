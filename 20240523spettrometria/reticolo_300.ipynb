{
 "cells": [
  {
   "cell_type": "markdown",
   "metadata": {},
   "source": [
    "# RETICOLO con passo 300\n",
    "\n",
    "$d\\sin\\theta = n\\lambda$ con n numero intero\n",
    "\n",
    "E' stata utilizzata una lampada al sodio"
   ]
  },
  {
   "cell_type": "code",
   "execution_count": 45,
   "metadata": {},
   "outputs": [],
   "source": [
    "import pandas as pd\n",
    "import numpy as np\n",
    "from matplotlib import pyplot as plt\n",
    "import os\n",
    "import sys\n",
    "from jax import grad\n",
    "from jax import numpy as jnp\n",
    "\n",
    "dir_path = os.path.abspath('')\n",
    "sys.path.append(dir_path + '/../')\n",
    "\n",
    "from giopy import Interpolazione, final_val\n",
    "\n",
    "sys.path.append(dir_path)\n",
    "from spectra_reppresentation import draw_spectrum\n",
    "\n",
    "dir_path = os.path.abspath('')\n",
    "FILE = dir_path + '/data/' + 'reticolo_300.csv'\n",
    "fr = pd.read_csv(FILE)\n",
    "fr = fr.set_index('colore')"
   ]
  },
  {
   "cell_type": "code",
   "execution_count": 46,
   "metadata": {},
   "outputs": [],
   "source": [
    "def formatter(data) -> dict: # ritorna il valore degli angoli date le righe del dataframe\n",
    "    keys = ['n1','n2','n3','-n1','-n2','-n3']\n",
    "    d = {}\n",
    "    for i in range(0,len(data),2): # i = gradi, i+1 = primi\n",
    "        d[keys[int(i/2)]] = np.float64(data[i] + data[i+1]/60)\n",
    "    return d\n",
    "\n",
    "giallo = formatter(fr.loc['GIALLO']) # come argomento passo una la riga\n",
    "verde = formatter(fr.loc['VERDE'])\n",
    "acqua = formatter(fr.loc['ACQUA'])\n",
    "\n",
    "# print(giallo,verde,acqua)\n",
    "\n",
    "λ = {'GIALLO':590,'VERDE':569,'ACQUA':498} # Na Sodio\n",
    "sigmaθ = 0.18  # deg ricavato in errori"
   ]
  },
  {
   "cell_type": "markdown",
   "metadata": {},
   "source": [
    "$d = \\frac{n\\lambda}{\\sin\\theta}$"
   ]
  },
  {
   "cell_type": "code",
   "execution_count": 47,
   "metadata": {},
   "outputs": [
    {
     "name": "stdout",
     "output_type": "stream",
     "text": [
      "[3.28920620e-06 3.26795481e-06 3.29425142e-06 3.28920620e-06\n",
      " 3.30523201e-06 3.29726306e-06 3.30399706e-06 3.30092215e-06\n",
      " 3.28259050e-06 3.27674040e-06 3.28790499e-06 3.28259050e-06\n",
      " 3.30489197e-06 3.29700224e-06 3.29081776e-06 3.29232645e-06\n",
      " 3.28194288e-06 3.27958885e-06]\n",
      "[5.66732900e-08 2.65145730e-08 1.62449838e-08 5.66732900e-08\n",
      " 2.71684866e-08 1.62807292e-08 5.93716712e-08 2.82359303e-08\n",
      " 1.69389774e-08 5.83812162e-08 2.79986794e-08 1.69389774e-08\n",
      " 6.81157653e-08 3.26850276e-08 2.02902699e-08 6.75927788e-08\n",
      " 3.23721639e-08 2.01340858e-08]\n",
      "Passo reticoli:  (3.288961 ± 0.005949)e-6 m\n",
      "attesi 1/300 reticoli/mm 3.33\n"
     ]
    }
   ],
   "source": [
    "def passo(n,λ,θ): # n = ordini, λ = lunghezza d'onda, θ = angoli [deg]\n",
    "    return n*λ/jnp.abs(jnp.sin(jnp.radians(θ)))\n",
    "\n",
    "def sigma_passo(n,λ,θ):\n",
    "    dddθ = np.array([grad(passo,argnums=2)(i,λ,g) for i,g in zip(n,θ)])\n",
    "    return jnp.abs(dddθ * sigmaθ)\n",
    "\n",
    "m = np.array([1,2,3,1,2,3],dtype=np.int16) # ordini\n",
    "\n",
    "d_giallo = passo(m,λ['GIALLO'],np.array(list(giallo.values()))) # nm\n",
    "sigmad_giallo = sigma_passo(m,λ['GIALLO'],np.array(list(giallo.values()))) # nm\n",
    "\n",
    "d_verde = passo(m,λ['VERDE'],np.array(list(verde.values()))) # nm\n",
    "sigmad_verde = sigma_passo(m,λ['VERDE'],np.array(list(verde.values()))) # nm\n",
    "\n",
    "d_acqua = passo(m,λ['ACQUA'],np.array(list(acqua.values()))) # nm\n",
    "sigmad_acqua = sigma_passo(m,λ['ACQUA'],np.array(list(acqua.values()))) # nm\n",
    "\n",
    "d = np.concatenate((d_giallo,d_verde,d_acqua)) * 10**-9 # m\n",
    "sigmad = np.concatenate((sigmad_giallo,sigmad_verde,sigmad_acqua)) * 10**-9 # m\n",
    "print(d)\n",
    "print(sigmad)\n",
    "\n",
    "dm = np.average(d,weights=1/sigmad**2)\n",
    "# dstd = np.std(d,ddof=1)\n",
    "dstd = np.sqrt(1/np.sum(1/sigmad**2))\n",
    "\n",
    "print('Passo reticoli: ',final_val(dm,dstd,6,-6,'m'))\n",
    "print('attesi 1/300 reticoli/mm',np.round(1/300 * 1000,2))"
   ]
  },
  {
   "cell_type": "markdown",
   "metadata": {},
   "source": [
    "# DETERMINAZIONE GAS INCOGNITO:\n",
    "\n",
    "ora $d$ è noto (determinato nell'esperienza precedente), patendo da un gas ignoto bisogna determinare l'elemento\n",
    "\n",
    "$d\\sin\\theta \\cdot\\frac{1}{n} = \\lambda$"
   ]
  },
  {
   "cell_type": "code",
   "execution_count": 48,
   "metadata": {},
   "outputs": [],
   "source": [
    "FILE = dir_path + '/data/' + 'reticolo_300_ignoto.csv'\n",
    "fr = pd.read_csv(FILE)\n",
    "fr = fr.set_index('colore')"
   ]
  },
  {
   "cell_type": "code",
   "execution_count": 49,
   "metadata": {},
   "outputs": [],
   "source": [
    "giallo = formatter(fr.loc['GIALLO'][:6]) # come argomento passo una la riga\n",
    "verde = formatter(fr.loc['VERDE'][:6])\n",
    "acqua = formatter(fr.loc['ACQUA'][:6])\n",
    "blu = formatter(fr.loc['BLU'][:6])\n",
    "\n",
    "m = np.array([1,2,3],dtype=np.int16) # ordini\n",
    "d,sigmad = dm * 10**9,dstd* 10**9 # rinomino variabili e metto in nm\n",
    "#sigma teta"
   ]
  },
  {
   "cell_type": "code",
   "execution_count": 50,
   "metadata": {},
   "outputs": [
    {
     "name": "stdout",
     "output_type": "stream",
     "text": [
      "lambda incognito: [580.72479028 548.25843176 497.4018509  437.89951587]\n",
      "sigma_lambda incognito: [2.54642611 2.57168345 2.60625153 2.64303495]\n"
     ]
    }
   ],
   "source": [
    "def lambda_val(n,θ,d): # n = ordini, θ = angoli, d = passo\n",
    "    return jnp.abs(d*jnp.sin(jnp.radians(θ)) / n)\n",
    "\n",
    "def sigma_lambda(n,θ,d):\n",
    "    dddd = np.array([grad(lambda_val,argnums=2)(i,g,d) for i,g in zip(n,θ)])\n",
    "    dddteta = np.array([grad(lambda_val,argnums=1)(i,g,d) for i,g in zip(n,θ)])\n",
    "    return jnp.sqrt(dddd**2 * sigmad**2 + dddteta**2 * sigmaθ**2)\n",
    "\n",
    "λ_giallo = lambda_val(m,np.array(list(giallo.values())),d) # nm\n",
    "sigma_lambda_giallo = sigma_lambda(m,np.array(list(giallo.values())),d) # nm\n",
    "giallom = np.average(λ_giallo,weights=1/sigma_lambda_giallo**2)\n",
    "sigma_giallom = 1/np.sqrt(np.sum(1/sigma_lambda_giallo**2))\n",
    "\n",
    "λ_verde = lambda_val(m,np.array(list(verde.values())),d) # nm\n",
    "sigma_lambda_verde = sigma_lambda(m,np.array(list(verde.values())),d) # nm\n",
    "verdem = np.average(λ_verde,weights=1/sigma_lambda_verde**2)\n",
    "sigma_verdem = 1/np.sqrt(np.sum(1/sigma_lambda_verde**2))\n",
    "\n",
    "λ_acqua = lambda_val(m,np.array(list(acqua.values())),d) # nm\n",
    "sigma_lambda_acqua = sigma_lambda(m,np.array(list(acqua.values())),d) # nm\n",
    "acquam = np.average(λ_acqua,weights=1/sigma_lambda_acqua**2)\n",
    "sigma_acquam = 1/np.sqrt(np.sum(1/sigma_lambda_acqua**2))\n",
    "\n",
    "λ_blu = lambda_val(m,np.array(list(blu.values())),d) # nm\n",
    "sigma_lambda_blu = sigma_lambda(m,np.array(list(blu.values())),d) # nm\n",
    "blum = np.average(λ_blu,weights=1/sigma_lambda_blu**2)\n",
    "sigma_blum = 1/np.sqrt(np.sum(1/sigma_lambda_blu**2))\n",
    "\n",
    "λ_incognito = np.array([giallom,verdem,acquam,blum])\n",
    "sigmaλ_incognito = np.array([sigma_giallom,sigma_verdem,sigma_acquam,sigma_blum])\n",
    "\n",
    "print('lambda incognito:', λ_incognito)\n",
    "print('sigma_lambda incognito:', sigmaλ_incognito)"
   ]
  },
  {
   "cell_type": "code",
   "execution_count": 51,
   "metadata": {},
   "outputs": [
    {
     "data": {
      "image/png": "[encoded data removed]",
      "text/plain": [
       "<Figure size 1000x100 with 1 Axes>"
      ]
     },
     "metadata": {},
     "output_type": "display_data"
    },
    {
     "data": {
      "image/png": "[encoded data removed]",
      "text/plain": [
       "<Figure size 1000x100 with 1 Axes>"
      ]
     },
     "metadata": {},
     "output_type": "display_data"
    }
   ],
   "source": [
    "FILE = dir_path + '/data/' + 'LINEE_SPETTRO_Hg.csv'\n",
    "fr = pd.read_csv(FILE)\n",
    "fr.set_index('colore',inplace=True)\n",
    "fr = fr.sort_values('λ (nm)',ascending=False)\n",
    "\n",
    "# ESCLUDO I VIOLA IN QUANTO DIFFICILMENTE VISIBLI\n",
    "\n",
    "λ_Hg = np.array(fr['λ (nm)'])#[:-1] # * (10**-9) # nm\n",
    "sigmaλ_Hg = np.array(fr['sigmaλ'])#[:-1] # * (10**-9)\n",
    "\n",
    "draw_spectrum(λ_incognito,sigmaλ_incognito,ytitle='incognito')\n",
    "draw_spectrum(λ_Hg,ytitle='Hg')"
   ]
  },
  {
   "cell_type": "code",
   "execution_count": null,
   "metadata": {},
   "outputs": [],
   "source": []
  }
 ],
 "metadata": {
  "kernelspec": {
   "display_name": "Python 3",
   "language": "python",
   "name": "python3"
  },
  "language_info": {
   "codemirror_mode": {
    "name": "ipython",
    "version": 3
   },
   "file_extension": ".py",
   "mimetype": "text/x-python",
   "name": "python",
   "nbconvert_exporter": "python",
   "pygments_lexer": "ipython3",
   "version": "3.10.12"
  }
 },
 "nbformat": 4,
 "nbformat_minor": 2
}
