{
 "cells": [
  {
   "cell_type": "markdown",
   "metadata": {},
   "source": [
    "# RETICOLO con passo 300\n",
    "\n",
    "$d\\sin\\theta = n\\lambda$ con n numero intero\n",
    "\n",
    "E' stata utilizzata una lampada al sodio"
   ]
  },
  {
   "cell_type": "code",
   "execution_count": 1,
   "metadata": {},
   "outputs": [],
   "source": [
    "import pandas as pd\n",
    "import numpy as np\n",
    "from matplotlib import pyplot as plt\n",
    "import os\n",
    "import sys\n",
    "from jax import grad\n",
    "from jax import numpy as jnp\n",
    "\n",
    "dir_path = os.path.abspath('')\n",
    "sys.path.append(dir_path + '/../')\n",
    "\n",
    "from giopy import Interpolazione, final_val\n",
    "\n",
    "sys.path.append(dir_path)\n",
    "from spectra_reppresentation import draw_spectrum\n",
    "\n",
    "dir_path = os.path.abspath('')\n",
    "FILE = dir_path + '/data/' + 'reticolo_300.csv'\n",
    "fr = pd.read_csv(FILE)\n",
    "fr = fr.set_index('colore')"
   ]
  },
  {
   "cell_type": "code",
   "execution_count": 2,
   "metadata": {},
   "outputs": [],
   "source": [
    "def formatter(data) -> dict: # ritorna il valore degli angoli date le righe del dataframe\n",
    "    keys = ['n1','n2','n3','-n1','-n2','-n3']\n",
    "    d = {}\n",
    "    for i in range(0,len(data),2): # i = gradi, i+1 = primi\n",
    "        d[keys[int(i/2)]] = np.float64(data[i] + data[i+1]/60)\n",
    "    return d\n",
    "\n",
    "giallo = formatter(fr.loc['GIALLO']) # come argomento passo una la riga\n",
    "verde = formatter(fr.loc['VERDE'])\n",
    "acqua = formatter(fr.loc['ACQUA'])\n",
    "\n",
    "# print(giallo,verde,acqua)\n",
    "\n",
    "λ_Na = {'GIALLO':590,'VERDE':569,'ACQUA':498} # Na Sodio\n",
    "errore_lettura = np.float64(0.224)  # deg ricavato in errori"
   ]
  },
  {
   "cell_type": "markdown",
   "metadata": {},
   "source": [
    "$d = \\frac{n\\lambda}{\\sin\\theta}$"
   ]
  },
  {
   "cell_type": "code",
   "execution_count": 3,
   "metadata": {},
   "outputs": [
    {
     "name": "stdout",
     "output_type": "stream",
     "text": [
      "Passo reticoli:  (3.289 ± 0.0074)e-6 m\n",
      "attesi 1/300 reticoli/mm 3.33\n"
     ]
    },
    {
     "data": {
      "image/png": "[encoded data removed]",
      "text/plain": [
       "<Figure size 1000x100 with 1 Axes>"
      ]
     },
     "metadata": {},
     "output_type": "display_data"
    }
   ],
   "source": [
    "def passo(n,λ,θ): # n = ordini, λ = lunghezza d'onda, θ = angoli [deg]\n",
    "    return n*λ/jnp.abs(jnp.sin(jnp.radians(θ)))\n",
    "\n",
    "def sigma_passo(n,λ,θ,sigmaθ):\n",
    "    dddθ = np.array([grad(passo,argnums=2)(i,λ,g) for i,g in zip(n,θ)])\n",
    "    return jnp.abs(dddθ * sigmaθ)\n",
    "\n",
    "m = np.array([1,2,3,1,2,3],dtype=np.int16) # ordini\n",
    "\n",
    "d_giallo = passo(m,λ_Na['GIALLO'],np.array(list(giallo.values()))) # nm\n",
    "sigmad_giallo = sigma_passo(m,λ_Na['GIALLO'],np.array(list(giallo.values())),errore_lettura) # nm\n",
    "\n",
    "d_verde = passo(m,λ_Na['VERDE'],np.array(list(verde.values()))) # nm\n",
    "sigmad_verde = sigma_passo(m,λ_Na['VERDE'],np.array(list(verde.values())),errore_lettura) # nm\n",
    "\n",
    "d_acqua = passo(m,λ_Na['ACQUA'],np.array(list(acqua.values()))) # nm\n",
    "sigmad_acqua = sigma_passo(m,λ_Na['ACQUA'],np.array(list(acqua.values())),errore_lettura) # nm\n",
    "\n",
    "d = np.concatenate((d_giallo,d_verde,d_acqua)) # nm\n",
    "sigmad = np.concatenate((sigmad_giallo,sigmad_verde,sigmad_acqua)) # nm\n",
    "\n",
    "dm = np.average(d,weights=1/sigmad**2)\n",
    "# dstd = np.std(d,ddof=1)\n",
    "dstd = np.sqrt(1/np.sum(1/sigmad**2))\n",
    "\n",
    "print('Passo reticoli: ',final_val(dm*10**-9,dstd*10**-9,4,-6,'m'))\n",
    "print('attesi 1/300 reticoli/mm',np.round(1/300 * 1000,2))\n",
    "\n",
    "draw_spectrum(λ_Na.values(),ytitle='Na')"
   ]
  },
  {
   "cell_type": "markdown",
   "metadata": {},
   "source": [
    "# DETERMINAZIONE GAS INCOGNITO:\n",
    "\n",
    "ora $d$ è noto (determinato nell'esperienza precedente), patendo da un gas ignoto bisogna determinare l'elemento\n",
    "\n",
    "$d\\sin\\theta \\cdot\\frac{1}{n} = \\lambda$"
   ]
  },
  {
   "cell_type": "code",
   "execution_count": 4,
   "metadata": {},
   "outputs": [],
   "source": [
    "FILE = dir_path + '/data/' + 'reticolo_300_ignoto.csv'\n",
    "fr = pd.read_csv(FILE)\n",
    "fr = fr.set_index('colore')"
   ]
  },
  {
   "cell_type": "code",
   "execution_count": 5,
   "metadata": {},
   "outputs": [],
   "source": [
    "giallo = formatter(fr.loc['GIALLO'][:6]) # come argomento passo una la riga\n",
    "verde = formatter(fr.loc['VERDE'][:6])\n",
    "acqua = formatter(fr.loc['ACQUA'][:6])\n",
    "blu = formatter(fr.loc['BLU'][:6])\n",
    "\n",
    "m = np.array([1,2,3],dtype=np.int16) # ordini\n",
    "d,sigmad = dm,dstd # rinomino variabili nm\n",
    "#sigma teta"
   ]
  },
  {
   "cell_type": "code",
   "execution_count": 8,
   "metadata": {},
   "outputs": [
    {
     "name": "stdout",
     "output_type": "stream",
     "text": [
      "lambda incognito: [581. 548. 497. 438.]\n",
      "sigma_lambda incognito: [3. 3. 3. 3.]\n"
     ]
    }
   ],
   "source": [
    "def lambda_val(n,θ,d): # n = ordini, θ = angoli, d = passo\n",
    "    return jnp.abs(d*jnp.sin(jnp.radians(θ)) / n)\n",
    "\n",
    "def sigma_lambda(n,θ,d,sigmaθ,sigmad):\n",
    "    dddd = np.array([grad(lambda_val,argnums=2)(i,g,d) for i,g in zip(n,θ)])\n",
    "    dddteta = np.array([grad(lambda_val,argnums=1)(i,g,d) for i,g in zip(n,θ)])\n",
    "    return jnp.sqrt(dddd**2 * sigmad**2 + dddteta**2 * sigmaθ**2)\n",
    "\n",
    "λ_giallo = lambda_val(m,np.array(list(giallo.values())),d) # nm\n",
    "sigma_lambda_giallo = sigma_lambda(m,np.array(list(giallo.values())),d,errore_lettura,sigmad) # nm\n",
    "giallom = np.average(λ_giallo,weights=1/sigma_lambda_giallo**2)\n",
    "sigma_giallom = 1/np.sqrt(np.sum(1/sigma_lambda_giallo**2))\n",
    "\n",
    "λ_verde = lambda_val(m,np.array(list(verde.values())),d) # nm\n",
    "sigma_lambda_verde = sigma_lambda(m,np.array(list(verde.values())),d,errore_lettura,sigmad) # nm\n",
    "verdem = np.average(λ_verde,weights=1/sigma_lambda_verde**2)\n",
    "sigma_verdem = 1/np.sqrt(np.sum(1/sigma_lambda_verde**2))\n",
    "\n",
    "λ_acqua = lambda_val(m,np.array(list(acqua.values())),d) # nm\n",
    "sigma_lambda_acqua = sigma_lambda(m,np.array(list(acqua.values())),d,errore_lettura,sigmad) # nm\n",
    "acquam = np.average(λ_acqua,weights=1/sigma_lambda_acqua**2)\n",
    "sigma_acquam = 1/np.sqrt(np.sum(1/sigma_lambda_acqua**2))\n",
    "\n",
    "λ_blu = lambda_val(m,np.array(list(blu.values())),d) # nm\n",
    "sigma_lambda_blu = sigma_lambda(m,np.array(list(blu.values())),d,errore_lettura,sigmad) # nm\n",
    "blum = np.average(λ_blu,weights=1/sigma_lambda_blu**2)\n",
    "sigma_blum = 1/np.sqrt(np.sum(1/sigma_lambda_blu**2))\n",
    "\n",
    "λ_incognito = np.array([giallom,verdem,acquam,blum])\n",
    "sigmaλ_incognito = np.array([sigma_giallom,sigma_verdem,sigma_acquam,sigma_blum])\n",
    "\n",
    "print('lambda incognito:', np.round(λ_incognito))\n",
    "print('sigma_lambda incognito:', np.round(sigmaλ_incognito))"
   ]
  },
  {
   "cell_type": "code",
   "execution_count": 9,
   "metadata": {},
   "outputs": [
    {
     "data": {
      "image/png": "[encoded data removed]",
      "text/plain": [
       "<Figure size 1000x100 with 1 Axes>"
      ]
     },
     "metadata": {},
     "output_type": "display_data"
    },
    {
     "data": {
      "image/png": "[encoded data removed]",
      "text/plain": [
       "<Figure size 1000x100 with 1 Axes>"
      ]
     },
     "metadata": {},
     "output_type": "display_data"
    }
   ],
   "source": [
    "FILE = dir_path + '/data/' + 'LINEE_SPETTRO_Hg.csv'\n",
    "fr = pd.read_csv(FILE)\n",
    "fr.set_index('colore',inplace=True)\n",
    "fr = fr.sort_values('λ (nm)',ascending=False)\n",
    "\n",
    "# ESCLUDO I VIOLA IN QUANTO DIFFICILMENTE VISIBLI\n",
    "\n",
    "λ_Hg = np.array(fr['λ (nm)'])#[:-1] # * (10**-9) # nm\n",
    "sigmaλ_Hg = np.array(fr['sigmaλ'])#[:-1] # * (10**-9)\n",
    "\n",
    "draw_spectrum(λ_incognito,sigmaλ_incognito,ytitle='incognito')\n",
    "draw_spectrum(λ_Hg,ytitle='Hg')"
   ]
  },
  {
   "cell_type": "markdown",
   "metadata": {},
   "source": [
    "__TODO:__ prendere più linee spettrali Hg"
   ]
  },
  {
   "cell_type": "code",
   "execution_count": 10,
   "metadata": {},
   "outputs": [
    {
     "name": "stdout",
     "output_type": "stream",
     "text": [
      "chi2:  5.024\n",
      "df:  3\n",
      "rchi2:  1.67\n",
      "pvalue:  0.17\n"
     ]
    }
   ],
   "source": [
    "# QUANTIFICAZIONE COMPATIBILITA':\n",
    "from scipy.stats import chi2 as chi2f\n",
    "chi2 = np.sum(((λ_Hg[1:-2] - λ_incognito)/sigmaλ_incognito)**2)\n",
    "df = len(λ_Hg[1:-2]) - 1\n",
    "pvalue = np.round(chi2f.sf(chi2,df),3)\n",
    "\n",
    "print('chi2: ',np.round(chi2,3))\n",
    "print('df: ',df)\n",
    "print('rchi2: ',np.round(chi2/df,2))\n",
    "print('pvalue: ',pvalue)"
   ]
  },
  {
   "cell_type": "markdown",
   "metadata": {},
   "source": [
    "# INCOGNITO 2"
   ]
  },
  {
   "cell_type": "code",
   "execution_count": 15,
   "metadata": {},
   "outputs": [
    {
     "name": "stdout",
     "output_type": "stream",
     "text": [
      "λ_ignoto1:  [651. 585. 541. 486. 454.]  ±  [13. 13. 13. 13. 13.]\n",
      "λ_ignoto2:  [601. 576. 531. 479. 435.]  ±  [12. 12. 12. 12. 13.]\n"
     ]
    },
    {
     "data": {
      "image/png": "[encoded data removed]",
      "text/plain": [
       "<Figure size 1000x100 with 1 Axes>"
      ]
     },
     "metadata": {},
     "output_type": "display_data"
    },
    {
     "data": {
      "image/png": "[encoded data removed]",
      "text/plain": [
       "<Figure size 1000x100 with 1 Axes>"
      ]
     },
     "metadata": {},
     "output_type": "display_data"
    }
   ],
   "source": [
    "FILE = dir_path + '/data/' + 'incognito2.csv'\n",
    "\n",
    "fr = pd.read_csv(FILE)\n",
    "fr.set_index('strumento',inplace=True)\n",
    "fr1 = fr.loc['RETICOLOn1']\n",
    "fr2 = fr.loc['RETICOLOn2']\n",
    "\n",
    "rosso1 = np.array(fr1['ROSSOdeg'] + fr1['ROSSOprim']/60)\n",
    "giallo1 = np.array(fr1['GIALLOdeg'] + fr1['GIALLOprim']/60)\n",
    "verde1 = np.array(fr1['VERDEdeg'] + fr1['VERDEprim']/60)\n",
    "azzurro1 = np.array(fr1['AZZURROdeg'] + fr1['AZZURROprim']/60)\n",
    "blu1 = np.array(fr1['BLUdeg'] + fr1['BLUprim']/60)\n",
    "\n",
    "rosso2 = np.array(fr2['ROSSOdeg'] + fr2['ROSSOprim']/60)\n",
    "giallo2 = np.array(fr2['GIALLOdeg'] + fr2['GIALLOprim']/60)\n",
    "verde2 = np.array(fr2['VERDEdeg'] + fr2['VERDEprim']/60)\n",
    "azzurro2 = np.array(fr2['AZZURROdeg'] + fr2['AZZURROprim']/60)\n",
    "blu2 = np.array(fr2['BLUdeg'] + fr2['BLUprim']/60)\n",
    "\n",
    "δm1 = np.array([rosso1,giallo1,verde1,azzurro1,blu1])\n",
    "δm2 = np.array([rosso2,giallo2,verde2,azzurro2,blu2])\n",
    "\n",
    "# sigma deltam\n",
    "\n",
    "λ_ignoto1 = lambda_val(1,δm1,d) # nm\n",
    "sigmaλ_ignoto1 = sigma_lambda(np.ones_like(δm1),δm1,d,errore_lettura,sigmad) # nm\n",
    "print('λ_ignoto1: ',np.round(λ_ignoto1),' ± ',np.round(sigmaλ_ignoto1))\n",
    "\n",
    "λ_ignoto2 = lambda_val(2,δm2,d) # nm\n",
    "sigmaλ_ignoto2 = sigma_lambda(np.ones_like(δm2),δm2,d,errore_lettura,sigmad) # nm\n",
    "\n",
    "print('λ_ignoto2: ',np.round(λ_ignoto2),' ± ',np.round(sigmaλ_ignoto2))\n",
    "\n",
    "draw_spectrum(λ_ignoto1,sigmaλ_ignoto1,ytitle='incognito')\n",
    "draw_spectrum(λ_ignoto1,sigmaλ_ignoto1,ytitle='incognito')"
   ]
  }
 ],
 "metadata": {
  "kernelspec": {
   "display_name": "Python 3",
   "language": "python",
   "name": "python3"
  },
  "language_info": {
   "codemirror_mode": {
    "name": "ipython",
    "version": 3
   },
   "file_extension": ".py",
   "mimetype": "text/x-python",
   "name": "python",
   "nbconvert_exporter": "python",
   "pygments_lexer": "ipython3",
   "version": "3.10.12"
  }
 },
 "nbformat": 4,
 "nbformat_minor": 2
}
