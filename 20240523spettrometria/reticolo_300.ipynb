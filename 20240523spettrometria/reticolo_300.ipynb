{
 "cells": [
  {
   "cell_type": "markdown",
   "metadata": {},
   "source": [
    "# RETICOLO con passo 300\n",
    "\n",
    "$d\\sin\\theta = n\\lambda$ con n numero intero"
   ]
  },
  {
   "cell_type": "code",
   "execution_count": 43,
   "metadata": {},
   "outputs": [],
   "source": [
    "import pandas as pd\n",
    "import numpy as np\n",
    "from matplotlib import pyplot as plt\n",
    "import os\n",
    "import sys\n",
    "from jax import grad\n",
    "from jax import numpy as jnp\n",
    "\n",
    "dir_path = os.path.abspath('')\n",
    "sys.path.append(dir_path + '/../')\n",
    "\n",
    "from giopy import Interpolazione, final_val\n",
    "\n",
    "dir_path = os.path.abspath('')\n",
    "FILE = dir_path + '/data/' + 'reticolo_300.csv'\n",
    "fr = pd.read_csv(FILE)\n",
    "fr = fr.set_index('colore')"
   ]
  },
  {
   "cell_type": "code",
   "execution_count": 44,
   "metadata": {},
   "outputs": [],
   "source": [
    "def formatter(data) -> dict:\n",
    "    keys = ['n1','n2','n3','-n1','-n2','-n3']\n",
    "    d = {}\n",
    "    for i in range(0,len(data),2): # i = gradi, i+1 = primi\n",
    "        d[keys[int(i/2)]] = np.float64(data[i] + data[i+1]/60)\n",
    "    return d\n",
    "\n",
    "giallo = formatter(fr.loc['GIALLO']) # come argomento passo una la riga\n",
    "verde = formatter(fr.loc['VERDE']) # NOTE: i dati raccolti hanno un'offset di 90 gradi, la correzione è applicata in formatter\n",
    "acqua = formatter(fr.loc['ACQUA'])\n",
    "\n",
    "λ = {'GIALLO':590,'VERDE':569,'ACQUA':498}"
   ]
  },
  {
   "cell_type": "markdown",
   "metadata": {},
   "source": [
    "$d = \\frac{n\\lambda}{\\sin\\theta}$"
   ]
  },
  {
   "cell_type": "code",
   "execution_count": 49,
   "metadata": {},
   "outputs": [
    {
     "name": "stdout",
     "output_type": "stream",
     "text": [
      "Passo:  (3.29 ± 0.01)e-6 m\n"
     ]
    }
   ],
   "source": [
    "def passo(n,λ,θ):\n",
    "    return n*λ/jnp.abs(jnp.sin(jnp.radians(θ)))\n",
    "\n",
    "m = np.array([1,2,3,1,2,3],dtype=np.int16)\n",
    "\n",
    "d_giallo = passo(m,λ['GIALLO'],np.array(list(giallo.values()))) # nm\n",
    "d_verde = passo(m,λ['VERDE'],np.array(list(verde.values()))) # nm\n",
    "d_acqua = passo(m,λ['ACQUA'],np.array(list(acqua.values()))) # nm\n",
    "\n",
    "# print(d_giallo,d_verde,d_acqua)\n",
    "d = np.concatenate((d_giallo,d_verde,d_acqua)) * 10**-9 # m\n",
    "dm = np.mean(d)\n",
    "dstd = np.std(d)\n",
    "\n",
    "print('Passo: ',final_val(dm,dstd,2,-6,'m'))"
   ]
  }
 ],
 "metadata": {
  "kernelspec": {
   "display_name": "Python 3",
   "language": "python",
   "name": "python3"
  },
  "language_info": {
   "codemirror_mode": {
    "name": "ipython",
    "version": 3
   },
   "file_extension": ".py",
   "mimetype": "text/x-python",
   "name": "python",
   "nbconvert_exporter": "python",
   "pygments_lexer": "ipython3",
   "version": "3.10.12"
  }
 },
 "nbformat": 4,
 "nbformat_minor": 2
}
