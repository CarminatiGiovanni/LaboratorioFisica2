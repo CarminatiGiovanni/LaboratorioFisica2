{
 "cells": [
  {
   "cell_type": "markdown",
   "metadata": {},
   "source": [
    "# RETICOLO con passo 300"
   ]
  },
  {
   "cell_type": "code",
   "execution_count": 17,
   "metadata": {},
   "outputs": [
    {
     "name": "stdout",
     "output_type": "stream",
     "text": [
      "{'n1 deg': 10, 'n1 prim': 20, 'n2 deg': 21, 'n2 prim': 10, 'n3 deg': 32, 'n3 prim': 30, '-n1 deg': 349, '-n1 prim': 40, '-n2 deg': 339, '-n2 prim': 5, '-n3 deg': 327, '-n3 prim': 32}\n"
     ]
    }
   ],
   "source": [
    "import pandas as pd\n",
    "import numpy as np\n",
    "from matplotlib import pyplot as plt\n",
    "import os\n",
    "import sys\n",
    "from jax import grad\n",
    "from jax import numpy as jnp\n",
    "\n",
    "dir_path = os.path.abspath('')\n",
    "sys.path.append(dir_path + '/../')\n",
    "\n",
    "from giopy import Interpolazione, final_val\n",
    "\n",
    "dir_path = os.path.abspath('')\n",
    "FILE = dir_path + '/data/' + 'reticolo_300.csv'\n",
    "fr = pd.read_csv(FILE)\n",
    "fr = fr.set_index('colore')"
   ]
  },
  {
   "cell_type": "code",
   "execution_count": 25,
   "metadata": {},
   "outputs": [],
   "source": [
    "def formatter(data) -> dict:\n",
    "    keys = ['n1','n2','n3','-n1','-n2','-n3']\n",
    "    d = {}\n",
    "    for i in range(0,len(data),2): # i = gradi, i+1 = primi\n",
    "        d[keys[int(i/2)]] = np.float64(data[i] + data[i+1]/60)\n",
    "    return d\n",
    "\n",
    "giallo = formatter(fr.loc['GIALLO']) # come argomento passo una la riga\n",
    "verde = formatter(fr.loc['VERDE'])\n",
    "acqua = formatter(fr.loc['ACQUA'])"
   ]
  },
  {
   "cell_type": "code",
   "execution_count": null,
   "metadata": {},
   "outputs": [],
   "source": []
  }
 ],
 "metadata": {
  "kernelspec": {
   "display_name": "Python 3",
   "language": "python",
   "name": "python3"
  },
  "language_info": {
   "codemirror_mode": {
    "name": "ipython",
    "version": 3
   },
   "file_extension": ".py",
   "mimetype": "text/x-python",
   "name": "python",
   "nbconvert_exporter": "python",
   "pygments_lexer": "ipython3",
   "version": "3.10.12"
  }
 },
 "nbformat": 4,
 "nbformat_minor": 2
}
