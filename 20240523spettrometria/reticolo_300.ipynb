{
 "cells": [
  {
   "cell_type": "markdown",
   "metadata": {},
   "source": [
    "# RETICOLO con passo 300\n",
    "\n",
    "$d\\sin\\theta = n\\lambda$ con n numero intero\n",
    "\n",
    "E' stata utilizzata una lampada al sodio"
   ]
  },
  {
   "cell_type": "code",
   "execution_count": 1,
   "metadata": {},
   "outputs": [],
   "source": [
    "import pandas as pd\n",
    "import numpy as np\n",
    "from matplotlib import pyplot as plt\n",
    "import os\n",
    "import sys\n",
    "from jax import grad\n",
    "from jax import numpy as jnp\n",
    "\n",
    "dir_path = os.path.abspath('')\n",
    "sys.path.append(dir_path + '/../')\n",
    "\n",
    "from giopy import Interpolazione, final_val\n",
    "\n",
    "sys.path.append(dir_path)\n",
    "from spectra_reppresentation import draw_spectrum\n",
    "\n",
    "dir_path = os.path.abspath('')\n",
    "FILE = dir_path + '/data/' + 'reticolo_300.csv'\n",
    "fr = pd.read_csv(FILE)\n",
    "fr = fr.set_index('colore')"
   ]
  },
  {
   "cell_type": "code",
   "execution_count": 2,
   "metadata": {},
   "outputs": [],
   "source": [
    "def formatter(data) -> dict: # ritorna il valore degli angoli date le righe del dataframe\n",
    "    keys = ['n1','n2','n3','-n1','-n2','-n3']\n",
    "    d = {}\n",
    "    for i in range(0,len(data),2): # i = gradi, i+1 = primi\n",
    "        d[keys[int(i/2)]] = np.float64(data[i] + data[i+1]/60)\n",
    "    return d\n",
    "\n",
    "giallo = formatter(fr.loc['GIALLO']) # come argomento passo una la riga\n",
    "verde = formatter(fr.loc['VERDE'])\n",
    "acqua = formatter(fr.loc['ACQUA'])\n",
    "\n",
    "λ = {'GIALLO':590,'VERDE':569,'ACQUA':498} # Na Sodio\n",
    "sigmaθ = np.radians(0.18)  # deg ricavato in errori"
   ]
  },
  {
   "cell_type": "markdown",
   "metadata": {},
   "source": [
    "$d = \\frac{n\\lambda}{\\sin\\theta}$"
   ]
  },
  {
   "cell_type": "code",
   "execution_count": 3,
   "metadata": {},
   "outputs": [
    {
     "name": "stdout",
     "output_type": "stream",
     "text": [
      "Passo reticoli:  (3.29 ± 0.01)e-6 m\n",
      "attesi 1/300 reticoli/mm 3.33\n"
     ]
    }
   ],
   "source": [
    "def passo(n,λ,θ): # n = ordini, λ = lunghezza d'onda, θ = angoli\n",
    "    return n*λ/jnp.abs(jnp.sin(jnp.radians(θ)))\n",
    "\n",
    "def sigma_passo(n,λ,θ):\n",
    "    dddθ = np.array([grad(passo,argnums=2)(i,λ,g) for i,g in zip(n,θ)])\n",
    "    return jnp.abs(dddθ * sigmaθ)\n",
    "\n",
    "m = np.array([1,2,3,1,2,3],dtype=np.int16) # ordini\n",
    "\n",
    "d_giallo = passo(m,λ['GIALLO'],np.array(list(giallo.values()))) # nm\n",
    "sigmad_giallo = sigma_passo(m,λ['GIALLO'],np.array(list(giallo.values()))) # nm\n",
    "\n",
    "d_verde = passo(m,λ['VERDE'],np.array(list(verde.values()))) # nm\n",
    "sigmad_verde = sigma_passo(m,λ['VERDE'],np.array(list(verde.values()))) # nm\n",
    "\n",
    "d_acqua = passo(m,λ['ACQUA'],np.array(list(acqua.values()))) # nm\n",
    "sigmad_acqua = sigma_passo(m,λ['ACQUA'],np.array(list(acqua.values()))) # nm\n",
    "\n",
    "d = np.concatenate((d_giallo,d_verde,d_acqua)) * 10**-9 # m\n",
    "sigmad = np.concatenate((sigmad_giallo,sigmad_verde,sigmad_acqua)) * 10**-9 # m\n",
    "\n",
    "dm = np.mean(d)\n",
    "dstd = np.std(d)\n",
    "\n",
    "print('Passo reticoli: ',final_val(dm,dstd,2,-6,'m'))\n",
    "print('attesi 1/300 reticoli/mm',np.round(1/300 * 1000,2))"
   ]
  },
  {
   "cell_type": "markdown",
   "metadata": {},
   "source": [
    "# DETERMINAZIONE GAS INCOGNITO:\n",
    "\n",
    "ora $d$ è noto (determinato nell'esperienza precedente), patendo da un gas ignoto bisogna determinare l'elemento\n",
    "\n",
    "$d\\sin\\theta \\cdot\\frac{1}{n} = \\lambda$"
   ]
  },
  {
   "cell_type": "code",
   "execution_count": 4,
   "metadata": {},
   "outputs": [],
   "source": [
    "FILE = dir_path + '/data/' + 'reticolo_300_ignoto.csv'\n",
    "fr = pd.read_csv(FILE)\n",
    "fr = fr.set_index('colore')"
   ]
  },
  {
   "cell_type": "code",
   "execution_count": 5,
   "metadata": {},
   "outputs": [],
   "source": [
    "giallo = formatter(fr.loc['GIALLO'][:6]) # come argomento passo una la riga\n",
    "verde = formatter(fr.loc['VERDE'][:6])\n",
    "acqua = formatter(fr.loc['ACQUA'][:6])\n",
    "blu = formatter(fr.loc['BLU'][:6])\n",
    "\n",
    "m = np.array([1,2,3],dtype=np.int16) # ordini\n",
    "d,sigmad = dm * 10**9,dstd* 10**9 # rinomino variabili e metto in nm\n",
    "#sigma teta"
   ]
  },
  {
   "cell_type": "code",
   "execution_count": 6,
   "metadata": {},
   "outputs": [
    {
     "name": "stdout",
     "output_type": "stream",
     "text": [
      "lambda incognito: [580.54395745 549.79749542 497.58639126 438.63259515]\n",
      "sigma_lambda incognito: [1.03340708 0.97892082 0.88646602 0.78212866]\n"
     ]
    }
   ],
   "source": [
    "def lambda_val(n,θ,d): # n = ordini, θ = angoli, d = passo\n",
    "    return jnp.abs(d*jnp.sin(jnp.radians(θ)) / n)\n",
    "\n",
    "def sigma_lambda(n,θ,d):\n",
    "    dddd = np.array([grad(lambda_val,argnums=2)(i,g,d) for i,g in zip(n,θ)])\n",
    "    dddteta = np.array([grad(lambda_val,argnums=1)(i,g,d) for i,g in zip(n,θ)])\n",
    "    return jnp.sqrt(dddd**2 * sigmad**2 + dddteta**2 * sigmaθ**2)\n",
    "\n",
    "λ_giallo = lambda_val(m,np.array(list(giallo.values())),d) # nm\n",
    "sigma_lambda_giallo = sigma_lambda(m,np.array(list(giallo.values())),d) # nm\n",
    "giallom = np.average(λ_giallo,weights=1/sigma_lambda_giallo**2)\n",
    "sigma_giallom = 1/np.sqrt(np.sum(1/sigma_lambda_giallo**2))\n",
    "\n",
    "λ_verde = lambda_val(m,np.array(list(verde.values())),d) # nm\n",
    "sigma_lambda_verde = sigma_lambda(m,np.array(list(verde.values())),d) # nm\n",
    "verdem = np.average(λ_verde,weights=1/sigma_lambda_verde**2)\n",
    "sigma_verdem = 1/np.sqrt(np.sum(1/sigma_lambda_verde**2))\n",
    "\n",
    "λ_acqua = lambda_val(m,np.array(list(acqua.values())),d) # nm\n",
    "sigma_lambda_acqua = sigma_lambda(m,np.array(list(acqua.values())),d) # nm\n",
    "acquam = np.average(λ_acqua,weights=1/sigma_lambda_acqua**2)\n",
    "sigma_acquam = 1/np.sqrt(np.sum(1/sigma_lambda_acqua**2))\n",
    "\n",
    "λ_blu = lambda_val(m,np.array(list(blu.values())),d) # nm\n",
    "sigma_lambda_blu = sigma_lambda(m,np.array(list(blu.values())),d) # nm\n",
    "blum = np.average(λ_blu,weights=1/sigma_lambda_blu**2)\n",
    "sigma_blum = 1/np.sqrt(np.sum(1/sigma_lambda_blu**2))\n",
    "\n",
    "λ_incognito = np.array([giallom,verdem,acquam,blum])\n",
    "sigmaλ_incognito = np.array([sigma_giallom,sigma_verdem,sigma_acquam,sigma_blum])\n",
    "\n",
    "print('lambda incognito:', λ_incognito)\n",
    "print('sigma_lambda incognito:', sigmaλ_incognito)"
   ]
  },
  {
   "cell_type": "code",
   "execution_count": 7,
   "metadata": {},
   "outputs": [
    {
     "data": {
      "image/png": "[encoded data removed]",
      "text/plain": [
       "<Figure size 1000x100 with 1 Axes>"
      ]
     },
     "metadata": {},
     "output_type": "display_data"
    },
    {
     "data": {
      "image/png": "[encoded data removed]",
      "text/plain": [
       "<Figure size 1000x100 with 1 Axes>"
      ]
     },
     "metadata": {},
     "output_type": "display_data"
    }
   ],
   "source": [
    "FILE = dir_path + '/data/' + 'LINEE_SPETTRO_Hg.csv'\n",
    "fr = pd.read_csv(FILE)\n",
    "fr.set_index('colore',inplace=True)\n",
    "fr = fr.sort_values('λ (nm)',ascending=False)\n",
    "\n",
    "# ESCLUDO I VIOLA IN QUANTO DIFFICILMENTE VISIBLI\n",
    "\n",
    "λ_Hg = np.array(fr['λ (nm)'])#[:-1] # * (10**-9) # nm\n",
    "sigmaλ_Hg = np.array(fr['sigmaλ'])#[:-1] # * (10**-9)\n",
    "\n",
    "draw_spectrum(λ_incognito,sigmaλ_incognito,ytitle='incognito')\n",
    "draw_spectrum(λ_Hg,ytitle='Hg')"
   ]
  },
  {
   "cell_type": "code",
   "execution_count": null,
   "metadata": {},
   "outputs": [],
   "source": []
  }
 ],
 "metadata": {
  "kernelspec": {
   "display_name": "Python 3",
   "language": "python",
   "name": "python3"
  },
  "language_info": {
   "codemirror_mode": {
    "name": "ipython",
    "version": 3
   },
   "file_extension": ".py",
   "mimetype": "text/x-python",
   "name": "python",
   "nbconvert_exporter": "python",
   "pygments_lexer": "ipython3",
   "version": "3.10.12"
  }
 },
 "nbformat": 4,
 "nbformat_minor": 2
}
