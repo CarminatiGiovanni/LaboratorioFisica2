{
 "cells": [
  {
   "cell_type": "markdown",
   "metadata": {},
   "source": [
    "# RETICOLO con passo 300\n",
    "\n",
    "$d\\sin\\theta = n\\lambda$ con n numero intero"
   ]
  },
  {
   "cell_type": "code",
   "execution_count": 17,
   "metadata": {},
   "outputs": [],
   "source": [
    "import pandas as pd\n",
    "import numpy as np\n",
    "from matplotlib import pyplot as plt\n",
    "import os\n",
    "import sys\n",
    "from jax import grad\n",
    "from jax import numpy as jnp\n",
    "\n",
    "dir_path = os.path.abspath('')\n",
    "sys.path.append(dir_path + '/../')\n",
    "\n",
    "from giopy import Interpolazione, final_val\n",
    "\n",
    "sys.path.append(dir_path)\n",
    "from spectra_reppresentation import draw_spectrum\n",
    "\n",
    "dir_path = os.path.abspath('')\n",
    "FILE = dir_path + '/data/' + 'reticolo_300.csv'\n",
    "fr = pd.read_csv(FILE)\n",
    "fr = fr.set_index('colore')"
   ]
  },
  {
   "cell_type": "code",
   "execution_count": 18,
   "metadata": {},
   "outputs": [],
   "source": [
    "def formatter(data) -> dict:\n",
    "    keys = ['n1','n2','n3','-n1','-n2','-n3']\n",
    "    d = {}\n",
    "    for i in range(0,len(data),2): # i = gradi, i+1 = primi\n",
    "        d[keys[int(i/2)]] = np.float64(data[i] + data[i+1]/60)\n",
    "    return d\n",
    "\n",
    "giallo = formatter(fr.loc['GIALLO']) # come argomento passo una la riga\n",
    "verde = formatter(fr.loc['VERDE']) # NOTE: i dati raccolti hanno un'offset di 90 gradi, la correzione è applicata in formatter\n",
    "acqua = formatter(fr.loc['ACQUA'])\n",
    "\n",
    "λ = {'GIALLO':590,'VERDE':569,'ACQUA':498}\n",
    "sigmaθ = np.radians(0.044)  # deg"
   ]
  },
  {
   "cell_type": "markdown",
   "metadata": {},
   "source": [
    "$d = \\frac{n\\lambda}{\\sin\\theta}$"
   ]
  },
  {
   "cell_type": "code",
   "execution_count": 19,
   "metadata": {},
   "outputs": [
    {
     "name": "stdout",
     "output_type": "stream",
     "text": [
      "Passo:  (3.29 ± 0.01)e-6 m\n",
      "1/300 reticoli/mm 3.33\n"
     ]
    }
   ],
   "source": [
    "def passo(n,λ,θ):\n",
    "    return n*λ/jnp.abs(jnp.sin(jnp.radians(θ)))\n",
    "\n",
    "def sigma_passo(n,λ,θ):\n",
    "    dddθ = np.array([grad(passo,argnums=2)(i,λ,g) for i,g in zip(n,θ)])\n",
    "    return jnp.abs(dddθ * sigmaθ)\n",
    "\n",
    "m = np.array([1,2,3,1,2,3],dtype=np.int16)\n",
    "\n",
    "d_giallo = passo(m,λ['GIALLO'],np.array(list(giallo.values()))) # nm\n",
    "sigmad_giallo = sigma_passo(m,λ['GIALLO'],np.array(list(giallo.values()))) # nm\n",
    "\n",
    "d_verde = passo(m,λ['VERDE'],np.array(list(verde.values()))) # nm\n",
    "sigmad_verde = sigma_passo(m,λ['VERDE'],np.array(list(verde.values()))) # nm\n",
    "\n",
    "d_acqua = passo(m,λ['ACQUA'],np.array(list(acqua.values()))) # nm\n",
    "sigmad_acqua = sigma_passo(m,λ['ACQUA'],np.array(list(acqua.values()))) # nm\n",
    "\n",
    "# print(d_giallo,d_verde,d_acqua)\n",
    "d = np.concatenate((d_giallo,d_verde,d_acqua)) * 10**-9 # m\n",
    "sigmad = np.concatenate((sigmad_giallo,sigmad_verde,sigmad_acqua)) * 10**-9 # m\n",
    "\n",
    "dm = np.mean(d)\n",
    "dstd = np.std(d)\n",
    "print('Passo: ',final_val(dm,dstd,2,-6,'m'))\n",
    "print('1/300 reticoli/mm',np.round(1/300 * 1000,2))"
   ]
  },
  {
   "cell_type": "markdown",
   "metadata": {},
   "source": [
    "# DETERMINAZIONE GAS INCOGNITO:"
   ]
  },
  {
   "cell_type": "code",
   "execution_count": 20,
   "metadata": {},
   "outputs": [],
   "source": [
    "FILE = dir_path + '/data/' + 'reticolo_300_ignoto.csv'\n",
    "fr = pd.read_csv(FILE)\n",
    "fr = fr.set_index('colore')"
   ]
  },
  {
   "cell_type": "code",
   "execution_count": 26,
   "metadata": {},
   "outputs": [],
   "source": [
    "giallo = formatter(fr.loc['GIALLO'][:6]) # come argomento passo una la riga\n",
    "verde = formatter(fr.loc['VERDE'][:6]) # NOTE: i dati raccolti hanno un'offset di 90 gradi, la correzione è applicata in formatter\n",
    "acqua = formatter(fr.loc['ACQUA'][:6])\n",
    "blu = formatter(fr.loc['BLU'][:6])\n",
    "\n",
    "m = np.array([1,2,3],dtype=np.int16)\n",
    "d,sigmad = dm,dstd # rinomino variabili\n",
    "#sigma teta"
   ]
  },
  {
   "cell_type": "code",
   "execution_count": 27,
   "metadata": {},
   "outputs": [
    {
     "ename": "TypeError",
     "evalue": "'numpy.float64' object is not iterable",
     "output_type": "error",
     "traceback": [
      "\u001b[0;31m---------------------------------------------------------------------------\u001b[0m",
      "\u001b[0;31mTypeError\u001b[0m                                 Traceback (most recent call last)",
      "Cell \u001b[0;32mIn[27], line 10\u001b[0m\n\u001b[1;32m      7\u001b[0m     \u001b[38;5;28;01mreturn\u001b[39;00m jnp\u001b[38;5;241m.\u001b[39msqrt(dddd\u001b[38;5;241m*\u001b[39m\u001b[38;5;241m*\u001b[39m\u001b[38;5;241m2\u001b[39m \u001b[38;5;241m*\u001b[39m sigmad\u001b[38;5;241m*\u001b[39m\u001b[38;5;241m*\u001b[39m\u001b[38;5;241m2\u001b[39m \u001b[38;5;241m+\u001b[39m dddteta\u001b[38;5;241m*\u001b[39m\u001b[38;5;241m*\u001b[39m\u001b[38;5;241m2\u001b[39m \u001b[38;5;241m*\u001b[39m sigmaθ\u001b[38;5;241m*\u001b[39m\u001b[38;5;241m*\u001b[39m\u001b[38;5;241m2\u001b[39m)\n\u001b[1;32m      9\u001b[0m λ \u001b[38;5;241m=\u001b[39m lambda_val(m,np\u001b[38;5;241m.\u001b[39marray(\u001b[38;5;28mlist\u001b[39m(giallo\u001b[38;5;241m.\u001b[39mvalues())),d) \u001b[38;5;66;03m# nm\u001b[39;00m\n\u001b[0;32m---> 10\u001b[0m sigma_lambda \u001b[38;5;241m=\u001b[39m \u001b[43msigma_lambda\u001b[49m\u001b[43m(\u001b[49m\u001b[43mm\u001b[49m\u001b[43m,\u001b[49m\u001b[43mnp\u001b[49m\u001b[38;5;241;43m.\u001b[39;49m\u001b[43marray\u001b[49m\u001b[43m(\u001b[49m\u001b[38;5;28;43mlist\u001b[39;49m\u001b[43m(\u001b[49m\u001b[43mgiallo\u001b[49m\u001b[38;5;241;43m.\u001b[39;49m\u001b[43mvalues\u001b[49m\u001b[43m(\u001b[49m\u001b[43m)\u001b[49m\u001b[43m)\u001b[49m\u001b[43m)\u001b[49m\u001b[43m,\u001b[49m\u001b[43md\u001b[49m\u001b[43m)\u001b[49m \u001b[38;5;66;03m# nm\u001b[39;00m\n\u001b[1;32m     12\u001b[0m draw_spectrum(λ,sigma_lambda)\n",
      "Cell \u001b[0;32mIn[27], line 5\u001b[0m, in \u001b[0;36msigma_lambda\u001b[0;34m(n, θ, d)\u001b[0m\n\u001b[1;32m      4\u001b[0m \u001b[38;5;28;01mdef\u001b[39;00m \u001b[38;5;21msigma_lambda\u001b[39m(n,θ,d):\n\u001b[0;32m----> 5\u001b[0m     dddd \u001b[38;5;241m=\u001b[39m np\u001b[38;5;241m.\u001b[39marray([grad(lambda_val,argnums\u001b[38;5;241m=\u001b[39m\u001b[38;5;241m2\u001b[39m)(i,g,d) \u001b[38;5;28;01mfor\u001b[39;00m i,g,d \u001b[38;5;129;01min\u001b[39;00m \u001b[38;5;28;43mzip\u001b[39;49m\u001b[43m(\u001b[49m\u001b[43mn\u001b[49m\u001b[43m,\u001b[49m\u001b[43mθ\u001b[49m\u001b[43m,\u001b[49m\u001b[43md\u001b[49m\u001b[43m)\u001b[49m])\n\u001b[1;32m      6\u001b[0m     dddteta \u001b[38;5;241m=\u001b[39m np\u001b[38;5;241m.\u001b[39marray([grad(lambda_val,argnums\u001b[38;5;241m=\u001b[39m\u001b[38;5;241m1\u001b[39m)(i,g,d) \u001b[38;5;28;01mfor\u001b[39;00m i,g,d \u001b[38;5;129;01min\u001b[39;00m \u001b[38;5;28mzip\u001b[39m(n,θ,d)])\n\u001b[1;32m      7\u001b[0m     \u001b[38;5;28;01mreturn\u001b[39;00m jnp\u001b[38;5;241m.\u001b[39msqrt(dddd\u001b[38;5;241m*\u001b[39m\u001b[38;5;241m*\u001b[39m\u001b[38;5;241m2\u001b[39m \u001b[38;5;241m*\u001b[39m sigmad\u001b[38;5;241m*\u001b[39m\u001b[38;5;241m*\u001b[39m\u001b[38;5;241m2\u001b[39m \u001b[38;5;241m+\u001b[39m dddteta\u001b[38;5;241m*\u001b[39m\u001b[38;5;241m*\u001b[39m\u001b[38;5;241m2\u001b[39m \u001b[38;5;241m*\u001b[39m sigmaθ\u001b[38;5;241m*\u001b[39m\u001b[38;5;241m*\u001b[39m\u001b[38;5;241m2\u001b[39m)\n",
      "\u001b[0;31mTypeError\u001b[0m: 'numpy.float64' object is not iterable"
     ]
    }
   ],
   "source": [
    "def lambda_val(n,θ,d):\n",
    "    return n*d/jnp.sin(jnp.radians(θ))\n",
    "\n",
    "def sigma_lambda(n,θ,d):\n",
    "    dddd = np.array([grad(lambda_val,argnums=2)(i,g,d) for i,g,d in zip(n,θ,d)])\n",
    "    dddteta = np.array([grad(lambda_val,argnums=1)(i,g,d) for i,g,d in zip(n,θ,d)])\n",
    "    return jnp.sqrt(dddd**2 * sigmad**2 + dddteta**2 * sigmaθ**2)\n",
    "\n",
    "λ = lambda_val(m,np.array(list(giallo.values())),d) # nm\n",
    "sigma_lambda = sigma_lambda(m,np.array(list(giallo.values())),d) # nm\n",
    "\n",
    "draw_spectrum(λ,sigma_lambda)"
   ]
  }
 ],
 "metadata": {
  "kernelspec": {
   "display_name": "Python 3",
   "language": "python",
   "name": "python3"
  },
  "language_info": {
   "codemirror_mode": {
    "name": "ipython",
    "version": 3
   },
   "file_extension": ".py",
   "mimetype": "text/x-python",
   "name": "python",
   "nbconvert_exporter": "python",
   "pygments_lexer": "ipython3",
   "version": "3.10.12"
  }
 },
 "nbformat": 4,
 "nbformat_minor": 2
}
