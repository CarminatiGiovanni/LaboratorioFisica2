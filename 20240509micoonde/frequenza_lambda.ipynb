{
 "cells": [
  {
   "cell_type": "markdown",
   "metadata": {},
   "source": [
    "# STUDIO DELLA FREQUENZA e della LUNGHEZZA D'ONDA\n",
    "\n",
    "L'onda stazionaria instauratasi presenta punti di massimo e di minimo a distanze costanti. Misurando la distanza tra due massimi o due minimi si ottiene la lunghezza d'onda\n",
    "\n",
    "$\\nu = \\frac{c}{\\lambda}$"
   ]
  },
  {
   "cell_type": "code",
   "execution_count": 9,
   "metadata": {},
   "outputs": [],
   "source": [
    "import pandas as pd\n",
    "import numpy as np\n",
    "from matplotlib import pyplot as plt\n",
    "import os\n",
    "import sys\n",
    "\n",
    "dir_path = os.path.abspath('')\n",
    "sys.path.append(dir_path + '/../')\n",
    "\n",
    "from mylib import Interpolazione, final_val\n",
    "\n",
    "dir_path = os.path.abspath('')\n",
    "FILE = dir_path + '/data/' + 'ampiezza_distanza.csv'\n",
    "fr = pd.read_csv(FILE)"
   ]
  },
  {
   "cell_type": "code",
   "execution_count": 10,
   "metadata": {},
   "outputs": [],
   "source": [
    "dMIN = np.sort(np.abs(np.array(fr['Ricevitore MIN (piede) (cm)']) - np.array(fr['Emettitore (piede) (cm)']))) * 0.01\n",
    "dMAX = np.sort(np.abs(np.array(fr['Ricevitore MAX (piede) (cm)']) - np.array(fr['Emettitore (piede) (cm)']))) * 0.01\n",
    "\n",
    "sigmad = np.sqrt(2) * 0.001\n",
    "\n",
    "c = 299_792_458 # m/s\n",
    "\n",
    "# Vmin = np.array(fr['Vmin (Volt)'])\n",
    "# Vmax = np.array(fr['Vmax (Volt)'])\n",
    "# sigmaVmin = np.array(fr['sigmaVmin'])\n",
    "# sigmaVmax = np.array(fr['sigmaVmax'])"
   ]
  },
  {
   "cell_type": "code",
   "execution_count": 11,
   "metadata": {},
   "outputs": [
    {
     "name": "stdout",
     "output_type": "stream",
     "text": [
      "λ min:  (2.825 ± 0.156)e-2 m\n",
      "λ max:  (2.813 ± 0.193)e-2 m\n",
      "ν min:  (10.612 ± 0.586)e9 Hz\n",
      "ν max:  (10.659 ± 0.732)e9 Hz\n"
     ]
    }
   ],
   "source": [
    "deltamin = dMIN[1:-1] - dMIN[0:-2]\n",
    "deltamax = dMAX[1:-1] - dMAX[0:-2]\n",
    "\n",
    "λmin = np.average(deltamin) * 2\n",
    "σλmin = np.sqrt((np.std(deltamin) * 2)**2 + sigmad**2)\n",
    "\n",
    "λmax = np.average(deltamax) * 2\n",
    "σλmax = np.sqrt((np.std(deltamax) * 2)**2 + sigmad**2)\n",
    "\n",
    "print('λ min: ',final_val(λmin,σλmin,3,-2,'m'))\n",
    "print('λ max: ',final_val(λmax,σλmax,3,-2,'m'))\n",
    "\n",
    "νmin = c/λmin\n",
    "σνmin = c/λmin * σλmin/λmin\n",
    "\n",
    "νmax = c/λmax\n",
    "σνmax = c/λmax * σλmax/λmax\n",
    "\n",
    "print('ν min: ',final_val(νmin,σνmin,3,9,'Hz'))\n",
    "print('ν max: ',final_val(νmax,σνmax,3,9,'Hz'))\n"
   ]
  },
  {
   "cell_type": "code",
   "execution_count": 12,
   "metadata": {},
   "outputs": [
    {
     "name": "stdout",
     "output_type": "stream",
     "text": [
      "λ:  (2.819 ± 0.176)e-2 m\n",
      "ν:  (10.636 ± 0.663)e9 Hz\n"
     ]
    }
   ],
   "source": [
    "# stesso conto ma considero tutti i valori uniti\n",
    "\n",
    "deltad = np.concatenate((deltamin,deltamax))\n",
    "λ = np.average(deltad) * 2\n",
    "σλ = np.sqrt((np.std(deltad) * 2)**2 + sigmad**2) # /np.sqrt(len(deltad))\n",
    "\n",
    "print('λ: ',final_val(λ,σλ,3,-2,'m'))\n",
    "\n",
    "ν = c/λ\n",
    "σν = c/λ * σλ/λ\n",
    "\n",
    "print('ν: ',final_val(ν,σν,3,9,'Hz'))"
   ]
  }
 ],
 "metadata": {
  "kernelspec": {
   "display_name": "Python 3",
   "language": "python",
   "name": "python3"
  },
  "language_info": {
   "codemirror_mode": {
    "name": "ipython",
    "version": 3
   },
   "file_extension": ".py",
   "mimetype": "text/x-python",
   "name": "python",
   "nbconvert_exporter": "python",
   "pygments_lexer": "ipython3",
   "version": "3.10.12"
  }
 },
 "nbformat": 4,
 "nbformat_minor": 2
}
