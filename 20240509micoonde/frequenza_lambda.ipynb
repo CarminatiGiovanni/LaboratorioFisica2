{
 "cells": [
  {
   "cell_type": "markdown",
   "metadata": {},
   "source": [
    "# STUDIO DELLA FREQUENZA e della LUNGHEZZA D'ONDA\n",
    "\n",
    "L'onda stazionaria instauratasi presenta punti di massimo e di minimo a distanze costanti. Misurando la distanza tra due massimi o due minimi si ottiene la lunghezza d'onda"
   ]
  },
  {
   "cell_type": "code",
   "execution_count": 1,
   "metadata": {},
   "outputs": [],
   "source": [
    "import pandas as pd\n",
    "import numpy as np\n",
    "from matplotlib import pyplot as plt\n",
    "import os\n",
    "import sys\n",
    "\n",
    "dir_path = os.path.abspath('')\n",
    "sys.path.append(dir_path + '/../')\n",
    "\n",
    "from interpolazione import Interpolazione, final_val\n",
    "\n",
    "dir_path = os.path.abspath('')\n",
    "FILE = dir_path + '/data/' + 'ampiezza_distanza.csv'\n",
    "fr = pd.read_csv(FILE)"
   ]
  },
  {
   "cell_type": "code",
   "execution_count": 7,
   "metadata": {},
   "outputs": [],
   "source": [
    "dMIN = np.sort(np.abs(np.array(fr['Ricevitore MIN (piede) (cm)']) - np.array(fr['Emettitore (piede) (cm)']))) * 0.01\n",
    "dMAX = np.sort(np.abs(np.array(fr['Ricevitore MAX (piede) (cm)']) - np.array(fr['Emettitore (piede) (cm)']))) * 0.01\n",
    "\n",
    "sigmad = np.sqrt(2) * 0.01\n",
    "\n",
    "# Vmin = np.array(fr['Vmin (Volt)'])\n",
    "# Vmax = np.array(fr['Vmax (Volt)'])\n",
    "# sigmaVmin = np.array(fr['sigmaVmin'])\n",
    "# sigmaVmax = np.array(fr['sigmaVmax'])"
   ]
  },
  {
   "cell_type": "code",
   "execution_count": 13,
   "metadata": {},
   "outputs": [
    {
     "name": "stdout",
     "output_type": "stream",
     "text": [
      "0.014124999999999995 0.0003307189138830807\n",
      "0.014062500000000002 0.0006584783595532924\n"
     ]
    }
   ],
   "source": [
    "deltamin = dMIN[1:-1] - dMIN[0:-2]\n",
    "deltamax = dMAX[1:-1] - dMAX[0:-2]\n",
    "\n",
    "print(np.average(deltamin),np.std(deltamin))\n",
    "print(np.average(deltamax),np.std(deltamax))"
   ]
  }
 ],
 "metadata": {
  "kernelspec": {
   "display_name": "Python 3",
   "language": "python",
   "name": "python3"
  },
  "language_info": {
   "codemirror_mode": {
    "name": "ipython",
    "version": 3
   },
   "file_extension": ".py",
   "mimetype": "text/x-python",
   "name": "python",
   "nbconvert_exporter": "python",
   "pygments_lexer": "ipython3",
   "version": "3.10.12"
  }
 },
 "nbformat": 4,
 "nbformat_minor": 2
}
