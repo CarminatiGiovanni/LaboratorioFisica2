{
 "cells": [
  {
   "cell_type": "markdown",
   "metadata": {},
   "source": [
    "# VERIFICA LEGGE DI MALUS:\n",
    "\n",
    "$I(\\alpha) = I_0\\cos^2(\\alpha)$"
   ]
  },
  {
   "cell_type": "code",
   "execution_count": 1,
   "metadata": {},
   "outputs": [],
   "source": [
    "import pandas as pd\n",
    "import numpy as np\n",
    "from matplotlib import pyplot as plt\n",
    "import os\n",
    "import sys\n",
    "\n",
    "dir_path = os.path.abspath('')\n",
    "sys.path.append(dir_path + '/../')\n",
    "\n",
    "from interpolazione3 import Interpolazione, final_val\n",
    "\n",
    "dir_path = os.path.abspath('')\n",
    "FILE = dir_path + '/data/' + 'malus.csv'\n",
    "fr = pd.read_csv(FILE)"
   ]
  },
  {
   "cell_type": "code",
   "execution_count": 2,
   "metadata": {},
   "outputs": [],
   "source": [
    "# import dati da csv\n",
    "\n",
    "α = np.array(fr['alpha (deg)']) * np.pi / 180 # rad\n",
    "V = np.array(fr['V (Volt)']) # Volt\n",
    "# I = np.array(fr['I (mA)'])[0:11] # Ampere\n",
    "# sigmaI = np.array(fr['sigmaI'])[0:11] # Ampere\n",
    "sigmaV = np.array(fr['sigmaV']) # Volt\n",
    "sigmaα = np.ones_like(α)*np.pi/180 # rad"
   ]
  },
  {
   "cell_type": "markdown",
   "metadata": {},
   "source": [
    "Abbiamo due modelli possibili:\n",
    "- Il nostro sensore misura l'intensità del fascio $I$\n",
    "- Il nostro sensore misura l'ampiezza del campo elettrico $E$\n",
    "\n",
    "Sappiamo che il fascio si tratta di microonde polarizzate linearmente\n",
    "\n",
    "cerchiamo inoltre l'angolo in cui la polarizzazione è massima variando l'angolo del ricevitore"
   ]
  },
  {
   "cell_type": "code",
   "execution_count": 3,
   "metadata": {},
   "outputs": [
    {
     "ename": "TypeError",
     "evalue": "Interpolazione.__init__() got an unexpected keyword argument 'guess'",
     "output_type": "error",
     "traceback": [
      "\u001b[0;31m---------------------------------------------------------------------------\u001b[0m",
      "\u001b[0;31mTypeError\u001b[0m                                 Traceback (most recent call last)",
      "Cell \u001b[0;32mIn[3], line 7\u001b[0m\n\u001b[1;32m      4\u001b[0m \u001b[38;5;28;01mdef\u001b[39;00m \u001b[38;5;21mcampo_polarizzato\u001b[39m(α,E0,θ_0):\n\u001b[1;32m      5\u001b[0m     \u001b[38;5;28;01mreturn\u001b[39;00m E0 \u001b[38;5;241m*\u001b[39m np\u001b[38;5;241m.\u001b[39mabs(np\u001b[38;5;241m.\u001b[39mcos(α \u001b[38;5;241m+\u001b[39m θ_0))\n\u001b[0;32m----> 7\u001b[0m malus_E \u001b[38;5;241m=\u001b[39m \u001b[43mInterpolazione\u001b[49m\u001b[43m(\u001b[49m\u001b[43mα\u001b[49m\u001b[43m,\u001b[49m\u001b[43m \u001b[49m\u001b[43mV\u001b[49m\u001b[43m,\u001b[49m\u001b[43msigmaV\u001b[49m\u001b[43m,\u001b[49m\u001b[43msigmaα\u001b[49m\u001b[43m,\u001b[49m\u001b[43mcampo_polarizzato\u001b[49m\u001b[43m,\u001b[49m\u001b[43mguess\u001b[49m\u001b[38;5;241;43m=\u001b[39;49m\u001b[43m[\u001b[49m\u001b[38;5;241;43m1\u001b[39;49m\u001b[43m,\u001b[49m\u001b[38;5;241;43m0\u001b[39;49m\u001b[43m]\u001b[49m\u001b[43m,\u001b[49m\u001b[43mnames\u001b[49m\u001b[38;5;241;43m=\u001b[39;49m\u001b[43m[\u001b[49m\u001b[38;5;124;43m'\u001b[39;49m\u001b[38;5;124;43mE0\u001b[39;49m\u001b[38;5;124;43m'\u001b[39;49m\u001b[43m,\u001b[49m\u001b[38;5;124;43m'\u001b[39;49m\u001b[38;5;124;43mθ\u001b[39;49m\u001b[38;5;124;43m'\u001b[39;49m\u001b[43m]\u001b[49m\u001b[43m)\u001b[49m\n\u001b[1;32m      8\u001b[0m \u001b[38;5;28mprint\u001b[39m(malus_E)\n\u001b[1;32m      9\u001b[0m \u001b[38;5;66;03m# malus_I = Interpolazione(α, I, campo_polarizzato, sigmaI,[0,0],names=['I0','offset'])\u001b[39;00m\n",
      "\u001b[0;31mTypeError\u001b[0m: Interpolazione.__init__() got an unexpected keyword argument 'guess'"
     ]
    }
   ],
   "source": [
    "def legge_malus(α,I0,θ_0):\n",
    "    return I0 * np.cos(α + θ_0)**2\n",
    "\n",
    "def campo_polarizzato(α,E0,θ_0):\n",
    "    return E0 * np.abs(np.cos(α + θ_0))\n",
    "\n",
    "malus_E = Interpolazione(α, V,sigmaV,sigmaα,campo_polarizzato,guess=[1,0],names=['E0','θ'])\n",
    "print(malus_E)\n",
    "# malus_I = Interpolazione(α, I, campo_polarizzato, sigmaI,[0,0],names=['I0','offset'])"
   ]
  },
  {
   "cell_type": "code",
   "execution_count": null,
   "metadata": {},
   "outputs": [],
   "source": [
    "fig, ax = plt.subplots(figsize=(10, 5))\n",
    "\n",
    "# Plot for V\n",
    "\n",
    "ax.errorbar(α, V, yerr=sigmaV,xerr=np.pi/180*np.sqrt(2)*2, fmt='.', label='data')\n",
    "\n",
    "x = np.linspace(-np.pi,np.pi, 10000)\n",
    "y = campo_polarizzato(x, *malus_E.bval)\n",
    "ax.plot(x,y, label='fit')\n",
    "\n",
    "\n",
    "ax.set_xticks([-np.pi,-3*np.pi/4,-np.pi/2,-np.pi/4,0,np.pi/4, np.pi/2, 3*np.pi/4, np.pi])\n",
    "ax.set_xticklabels(['$-\\pi$','$-3\\pi/4$','$-\\pi/2$','$-\\pi/4$','$0$','$\\pi/4$','$\\pi/2$','$3\\pi/4$','$\\pi$'])\n",
    "ax.set_xlabel('α')\n",
    "ax.set_ylabel('I / V')\n",
    "ax.set_title('I and V vs α')\n",
    "ax.legend()\n",
    "\n",
    "plt.tight_layout()\n",
    "plt.show()\n",
    "\n"
   ]
  },
  {
   "cell_type": "markdown",
   "metadata": {},
   "source": [
    "le andature di tensione e di corrente seguono la legge $|\\cos(x)|$, i nostri rilevatori leggono quindi l'ampiezza del campo elettrico"
   ]
  }
 ],
 "metadata": {
  "kernelspec": {
   "display_name": "Python 3",
   "language": "python",
   "name": "python3"
  },
  "language_info": {
   "codemirror_mode": {
    "name": "ipython",
    "version": 3
   },
   "file_extension": ".py",
   "mimetype": "text/x-python",
   "name": "python",
   "nbconvert_exporter": "python",
   "pygments_lexer": "ipython3",
   "version": "3.10.12"
  }
 },
 "nbformat": 4,
 "nbformat_minor": 2
}
