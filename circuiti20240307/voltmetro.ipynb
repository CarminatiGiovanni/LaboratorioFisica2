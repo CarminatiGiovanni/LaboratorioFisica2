{
 "cells": [
  {
   "cell_type": "markdown",
   "metadata": {},
   "source": [
    "# VOLTMETRO\n",
    "\n",
    "OBIETTIVO: stimare la resistenza interna del voltmetro\n",
    "\n",
    "PROCEDIMENTO: usando resistenze dell'ordine dei MΩ misuriamo la corrente di una resistenza equivalente data da $R_{eq} = \\frac{R_v R}{Rv + R}$"
   ]
  },
  {
   "cell_type": "code",
   "execution_count": 5,
   "metadata": {},
   "outputs": [],
   "source": [
    "import pandas as pd\n",
    "import numpy as np\n",
    "import os\n",
    "import sys\n",
    "\n",
    "dir_path = os.path.abspath('')\n",
    "sys.path.append(dir_path + '/../')\n",
    "\n",
    "from interpolazione import Interpolazione\n",
    "\n",
    "dir_path = os.path.abspath('')\n",
    "FILE = dir_path + '/data/' + 'voltmetro.csv'\n",
    "fr = pd.read_csv(FILE)\n",
    "\n",
    "R = np.array(fr['R(MOHM)']) * 10**6 #megaOHM # - 0.2 ohm non necessario\n",
    "sigmaRpercent = 0.03 # 1%\n",
    "sigmaR = R*sigmaRpercent\n",
    "\n",
    "I = np.array(fr['uA']) * 10**-6 #microAmpere\n",
    "sigmaIpercent = 0.01 # 1%\n",
    "sigmaI = I*sigmaIpercent\n",
    "\n",
    "V = 5.01 # mantenuta costante\n",
    "sigmaVpercent = 0.01 # 1%\n",
    "sigmaV = V*sigmaVpercent"
   ]
  },
  {
   "cell_type": "code",
   "execution_count": 6,
   "metadata": {},
   "outputs": [],
   "source": [
    "def final_val(x,sigma,decimals = 2,exp = 0, udm: str = '') -> str:\n",
    "    x = np.round(x*np.power(10.0,-exp),decimals)\n",
    "    sigma = np.round(sigma*np.power(10.0,-exp),decimals)\n",
    "    return f'{x} ± {sigma} {udm}' if exp == 0 else f'({x} ± {sigma})e{exp} {udm}'"
   ]
  },
  {
   "cell_type": "code",
   "execution_count": 7,
   "metadata": {},
   "outputs": [],
   "source": [
    "Rv = (I/V - 1/R)**-1\n",
    "sigmaRv = np.abs(I/V - 1/R)**-1 * np.sqrt((sigmaI/V)**2 + (I*sigmaV/(V**2)**2) + (sigmaR/(R**2))**2)\n",
    "\n",
    "N = len(Rv)\n",
    "\n",
    "avg_Rv = np.average(Rv,weights=1/(sigmaRv**2))\n",
    "sigma_avg_Rv = np.sqrt(np.sum((Rv - avg_Rv)**2)/(N-1))"
   ]
  },
  {
   "cell_type": "code",
   "execution_count": 8,
   "metadata": {},
   "outputs": [
    {
     "name": "stdout",
     "output_type": "stream",
     "text": [
      "Rv:  (10.85 ± 0.17)e6 Ω\n"
     ]
    }
   ],
   "source": [
    "print('Rv: ',final_val(avg_Rv,sigma_avg_Rv,exp=6,udm='Ω'))"
   ]
  }
 ],
 "metadata": {
  "kernelspec": {
   "display_name": "Python 3",
   "language": "python",
   "name": "python3"
  },
  "language_info": {
   "codemirror_mode": {
    "name": "ipython",
    "version": 3
   },
   "file_extension": ".py",
   "mimetype": "text/x-python",
   "name": "python",
   "nbconvert_exporter": "python",
   "pygments_lexer": "ipython3",
   "version": "3.10.12"
  }
 },
 "nbformat": 4,
 "nbformat_minor": 2
}
