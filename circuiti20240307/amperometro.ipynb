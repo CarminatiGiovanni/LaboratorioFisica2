{
 "cells": [
  {
   "cell_type": "markdown",
   "metadata": {},
   "source": [
    "# AMPEROMETRO\n",
    "\n",
    "OBIETTIVO: stima della resistenza interna dell'amperometro\n",
    "\n",
    "usando resistenze dell'ordine dei Ω misuriamo la corrente di una resistenza equivalente data da $R_{eq} = R_a + R$"
   ]
  },
  {
   "cell_type": "code",
   "execution_count": 5,
   "metadata": {},
   "outputs": [],
   "source": [
    "import pandas as pd\n",
    "import numpy as np\n",
    "import matplotlib.pyplot as plt\n",
    "import os"
   ]
  },
  {
   "cell_type": "markdown",
   "metadata": {},
   "source": [
    "NOTA: a disposizione avevamo solo a disposizione resistenze con valori interi da 1 a 10 Ω"
   ]
  },
  {
   "cell_type": "code",
   "execution_count": 7,
   "metadata": {},
   "outputs": [],
   "source": [
    "dir_path = os.path.abspath('')\n",
    "FILE = dir_path + '/data/' + 'amperometro.csv'\n",
    "fr = pd.read_csv(FILE)\n",
    "\n",
    "R = np.array(fr['R(OHM)']) # ohm\n",
    "V = np.array(fr['V']) # volt\n",
    "I = np.array(fr['I(mA)']) * (10**(-3)) # milli ampere"
   ]
  },
  {
   "cell_type": "code",
   "execution_count": 9,
   "metadata": {},
   "outputs": [],
   "source": [
    "def final_val(x,sigma,decimals = 2,exp = 0, udm: str = '') -> str:\n",
    "    x = np.round(x*np.power(10.0,-exp),decimals)\n",
    "    sigma = np.round(sigma*np.power(10.0,-exp),decimals)\n",
    "    return f'{x} ± {sigma} {udm}' if exp == 0 else f'({x} ± {sigma})e{exp} {udm}'"
   ]
  },
  {
   "cell_type": "markdown",
   "metadata": {},
   "source": [
    "### Calcolo $R_a$\n",
    "\n",
    "$\n",
    "V=R_{eq}I \\Rightarrow V = (R_a + R)I \\Rightarrow R_a = \\frac{V}{I} - R\n",
    "$"
   ]
  },
  {
   "cell_type": "code",
   "execution_count": 12,
   "metadata": {},
   "outputs": [
    {
     "name": "stdout",
     "output_type": "stream",
     "text": [
      "0.98 ± 0.04 Ω\n"
     ]
    }
   ],
   "source": [
    "Ra = V/I - R\n",
    "\n",
    "print(final_val(Ra.mean(),Ra.std(),udm='Ω'))"
   ]
  }
 ],
 "metadata": {
  "kernelspec": {
   "display_name": "Python 3",
   "language": "python",
   "name": "python3"
  },
  "language_info": {
   "codemirror_mode": {
    "name": "ipython",
    "version": 3
   },
   "file_extension": ".py",
   "mimetype": "text/x-python",
   "name": "python",
   "nbconvert_exporter": "python",
   "pygments_lexer": "ipython3",
   "version": "3.10.12"
  }
 },
 "nbformat": 4,
 "nbformat_minor": 2
}
