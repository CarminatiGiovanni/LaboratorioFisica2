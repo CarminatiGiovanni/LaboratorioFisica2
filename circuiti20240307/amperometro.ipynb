{
 "cells": [
  {
   "cell_type": "markdown",
   "metadata": {},
   "source": [
    "# AMPEROMETRO\n",
    "\n",
    "OBIETTIVO: stima della resistenza interna dell'amperometro\n",
    "\n",
    "usando resistenze dell'ordine dei Ω misuriamo la corrente di una resistenza equivalente data da $R_{eq} = R_a + R$"
   ]
  },
  {
   "cell_type": "code",
   "execution_count": 9,
   "metadata": {},
   "outputs": [],
   "source": [
    "import pandas as pd\n",
    "import numpy as np\n",
    "import os\n",
    "import sys\n",
    "\n",
    "dir_path = os.path.abspath('')\n",
    "sys.path.append(dir_path + '/../')\n",
    "\n",
    "from interpolazione import Interpolazione"
   ]
  },
  {
   "cell_type": "markdown",
   "metadata": {},
   "source": [
    "NOTA: a disposizione avevamo solo a disposizione resistenze con valori interi da 1 a 10 Ω"
   ]
  },
  {
   "cell_type": "code",
   "execution_count": 10,
   "metadata": {},
   "outputs": [],
   "source": [
    "dir_path = os.path.abspath('')\n",
    "FILE = dir_path + '/data/' + 'amperometro.csv'\n",
    "fr = pd.read_csv(FILE)\n",
    "\n",
    "R = np.array(fr['R(OHM)']) - 0.2 # ohm\n",
    "sigmaRpercent = 0.03\n",
    "sigmaR = R*sigmaRpercent\n",
    "\n",
    "V = np.array(fr['V']) # volt\n",
    "sigmaVpercent = 0.01\n",
    "sigmaV = V*sigmaVpercent\n",
    "\n",
    "I = np.array(fr['I(mA)']) * 10**-3 # milli ampere\n",
    "sigmaIpercent = 0.01\n",
    "sigmaI = I*sigmaIpercent"
   ]
  },
  {
   "cell_type": "code",
   "execution_count": 11,
   "metadata": {},
   "outputs": [],
   "source": [
    "def final_val(x,sigma,decimals = 2,exp = 0, udm: str = '') -> str:\n",
    "    x = np.round(x*np.power(10.0,-exp),decimals)\n",
    "    sigma = np.round(sigma*np.power(10.0,-exp),decimals)\n",
    "    return f'{x} ± {sigma} {udm}' if exp == 0 else f'({x} ± {sigma})e{exp} {udm}'"
   ]
  },
  {
   "cell_type": "code",
   "execution_count": 12,
   "metadata": {},
   "outputs": [],
   "source": [
    "Ra = V/I - R\n",
    "sigmaRa = 0"
   ]
  },
  {
   "cell_type": "markdown",
   "metadata": {},
   "source": [
    "### Calcolo $R_a$"
   ]
  },
  {
   "cell_type": "code",
   "execution_count": 13,
   "metadata": {},
   "outputs": [
    {
     "name": "stdout",
     "output_type": "stream",
     "text": [
      "[1.19 1.13 1.2  1.19 1.19 1.13 1.24 1.23 1.16 1.17] ± 0.0 Ω\n"
     ]
    }
   ],
   "source": [
    "print(final_val(Ra,sigmaRa,udm='Ω'))"
   ]
  }
 ],
 "metadata": {
  "kernelspec": {
   "display_name": "Python 3",
   "language": "python",
   "name": "python3"
  },
  "language_info": {
   "codemirror_mode": {
    "name": "ipython",
    "version": 3
   },
   "file_extension": ".py",
   "mimetype": "text/x-python",
   "name": "python",
   "nbconvert_exporter": "python",
   "pygments_lexer": "ipython3",
   "version": "3.10.12"
  }
 },
 "nbformat": 4,
 "nbformat_minor": 2
}
