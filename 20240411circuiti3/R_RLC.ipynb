{
 "cells": [
  {
   "cell_type": "code",
   "execution_count": 32,
   "metadata": {},
   "outputs": [],
   "source": [
    "import pandas as pd\n",
    "import numpy as np\n",
    "from matplotlib import pyplot as plt\n",
    "import os\n",
    "import sys\n",
    "\n",
    "dir_path = os.path.abspath('')\n",
    "sys.path.append(dir_path + '/../')\n",
    "\n",
    "from interpolazione import Interpolazione, final_val\n",
    "\n",
    "dir_path = os.path.abspath('')\n",
    "FILE = dir_path + '/data/' + 'R_RLC.csv'\n",
    "fr = pd.read_csv(FILE)"
   ]
  },
  {
   "cell_type": "code",
   "execution_count": 33,
   "metadata": {},
   "outputs": [],
   "source": [
    "Vin = np.array(fr['Vin']) # V\n",
    "VR = np.array(fr['VR']) # V\n",
    "VLC = np.array(fr['V_LC']) # V\n",
    "ν = np.array(fr['Freq (Hz)']) # Hz \n",
    "ω = 2*np.pi*ν # rad/s\n",
    "ΦR = np.array(fr['faseR (deg)'], dtype=np.float64) * (np.pi / 180) # rad\n",
    "ΦLC = np.array(fr['faseLC (deg)'], dtype=np.float64) * (np.pi / 180) # rad\n",
    "\n",
    "\n",
    "sigma_Vin = np.array(fr['sigmaV_in']) # media 4 = sqrt(16)\n",
    "sigma_VR = np.array(fr['sigmaV_R'])  # media 4 = sqrt(16)\n",
    "sigma_VLC = np.array(fr['sigmaV_LC']) \n",
    "\n",
    "R = 9950 # ohm\n",
    "sigmaR = R * 0.01 # errore associato ohmmetro\n",
    "RL = 40\n",
    "sigmaRL = RL * 0.01\n",
    "\n",
    "sigma_ΦR = np.array(fr['sigmaF_R'], dtype=np.float64) * (np.pi/180.0) # rad\n",
    "sigma_ΦLC = np.array(fr['sigmaF_LC'], dtype=np.float64) * (np.pi/180.0) # rad\n",
    "\n",
    "###### Calcolo funzioni di trasferimento ######\n",
    "\n",
    "modHR = VR/Vin\n",
    "sigma_modHR = np.sqrt(((VR/(Vin**2))*sigma_Vin)**2 + ((sigma_VR/Vin)**2))\n",
    "\n",
    "modHCL = VLC/Vin\n",
    "sigma_modHCL = np.sqrt(((VLC/(Vin**2))*sigma_Vin)**2 + ((sigma_VLC/Vin)**2))\n",
    "# print(modHR,sigma_modHR)\n",
    "\n",
    "##### SISTEMAZIONE PHIR #######\n",
    "\n",
    "# quando PHI_R è negativo, aggiungo 2pi\n",
    "\n",
    "shift = lambda x: x + np.pi if x < 0 else x\n",
    "shift = np.vectorize(shift)\n",
    "ΦR = shift(ΦR)"
   ]
  },
  {
   "cell_type": "markdown",
   "metadata": {},
   "source": [
    "- $|H_R(\\omega)| = \\frac{\\omega CR}{\\sqrt{(1-\\omega^2LC)^2 + \\omega^2C^2 (R+R_L)^2}}$\n",
    "\n",
    "- $\\angle H_R(\\omega) = \\frac{\\pi}{2}-arctan(\\frac{\\omega C(R+R_L)}{1-\\omega^2LC})$"
   ]
  },
  {
   "cell_type": "code",
   "execution_count": 34,
   "metadata": {},
   "outputs": [],
   "source": [
    "def mod_HR_f(omega, C,L):\n",
    "    numerator = omega * C * R\n",
    "    denominator = np.sqrt((1 - (omega**2) * L * C)**2 + (omega**2) * (C**2) * (R + RL)**2)\n",
    "    result = numerator / denominator\n",
    "    return result\n",
    "\n",
    "def arg_HR_f(omega, C,L):\n",
    "    numerator = omega * C * (R + RL)\n",
    "    denominator = 1 - (omega**2) * L * C\n",
    "    angle = np.pi/2-np.arctan(numerator / denominator)\n",
    "    return angle"
   ]
  },
  {
   "cell_type": "code",
   "execution_count": 35,
   "metadata": {},
   "outputs": [
    {
     "name": "stdout",
     "output_type": "stream",
     "text": [
      "---------------------------MODULO R -------------------------\n",
      "chi2:  0.51\n",
      "---------------------------FASE R -------------------------\n",
      "chi2:  1.2\n",
      "------------------------- VALORI RICAVATI DAL FIT MODULO HR -----------------------------\n",
      "C =  (97.0 ± 2.936)e-10 F\n",
      "L =  (48.723 ± 1.496)e-3 Hr\n",
      "------------------------- VALORI RICAVATI DAL ARG HR -----------------------------\n",
      "C =  (94.678 ± 5.204)e-10 F\n",
      "L =  (53.444 ± 2.956)e-3 Hr\n"
     ]
    }
   ],
   "source": [
    "fit_mod_HR = Interpolazione(ω,modHR,mod_HR_f,sigma_modHR,p0=[10*10**-9,0.04])\n",
    "fit_arg_HR = Interpolazione(ω,ΦR,arg_HR_f,sigma_ΦR,p0=[10*10**-9,0.04])\n",
    "# print(fit_mod_HR)\n",
    "# print(fit_arg_HR)\n",
    "\n",
    "print(\"---------------------------MODULO R -------------------------\")\n",
    "print('chi2: ',fit_mod_HR.rchisquare)\n",
    "print(\"---------------------------FASE R -------------------------\")\n",
    "print('chi2: ',fit_arg_HR.rchisquare)\n",
    "print('------------------------- VALORI RICAVATI DAL FIT MODULO HR -----------------------------')\n",
    "print('C = ',final_val(fit_mod_HR.bval[0],fit_mod_HR.sigma_bval[0],decimals=3,exp=-10,udm='F'))\n",
    "print('L = ',final_val(fit_mod_HR.bval[1],fit_mod_HR.sigma_bval[1],decimals=3,exp=-3,udm='Hr'))\n",
    "\n",
    "print('------------------------- VALORI RICAVATI DAL ARG HR -----------------------------')\n",
    "print('C = ',final_val(fit_arg_HR.bval[0],fit_arg_HR.sigma_bval[0],decimals=3,exp=-10,udm='F'))\n",
    "print('L = ',final_val(fit_arg_HR.bval[1],fit_arg_HR.sigma_bval[1],decimals=3,exp=-3,udm='Hr'))"
   ]
  },
  {
   "cell_type": "code",
   "execution_count": 36,
   "metadata": {},
   "outputs": [],
   "source": [
    "# x = np.logspace(2.5, 6.3, 1000)\n",
    "# y = mod_HR_f(x, *fit_mod_HR.bval)\n",
    "\n",
    "# plt.plot(x, y, label='Fit',color='yellowgreen')\n",
    "# plt.errorbar(ω, modHR, yerr=fit_mod_HR.sigmaY, fmt='.',color='darkolivegreen')\n",
    "# plt.xlabel('$\\omega$')\n",
    "# plt.ylabel('$|H_R(\\omega)|$')\n",
    "# plt.xscale('log')\n",
    "# plt.title('$|H_R(\\omega)|$ \\t $\\\\tilde{\\chi}_0^2 = $' + str(fit_mod_HR.rchisquare))\n",
    "# plt.show()"
   ]
  },
  {
   "cell_type": "code",
   "execution_count": 37,
   "metadata": {},
   "outputs": [],
   "source": [
    "# x = np.logspace(2.5, 6.3, 1000)\n",
    "# y = arg_HR_f(x,10*10**-9,0.04)\n",
    "# y = arg_HR_f(x, *fit_arg_HR.bval)\n",
    "\n",
    "# plt.plot(x, y, label='Fit',color='yellowgreen')\n",
    "# plt.errorbar(ω, ΦR, yerr=fit_arg_HR.sigmaY, fmt='.',color='darkolivegreen')\n",
    "# plt.xlabel('$\\omega$')\n",
    "# plt.ylabel('$|H_R(\\omega)|$')\n",
    "# plt.xscale('log')\n",
    "# plt.title('$|H_R(\\omega)|$ \\t $\\\\tilde{\\chi}_0^2 = $' + str(fit_arg_HR.rchisquare))\n",
    "# plt.show()"
   ]
  },
  {
   "cell_type": "markdown",
   "metadata": {},
   "source": [
    "### $H_{CL}(\\omega) = $\n",
    "\n",
    "- $|H_{CL}(\\omega)| = \\frac{\\sqrt{(1-\\omega^2 LC) + \\omega^2C^2 R_L^2}}{\\sqrt{(1-\\omega^2LC)^2 + \\omega^2C^2 (R+R_L)^2}}$\n",
    "- $\\angle H_{CL}(\\omega) = arctan(\\frac{\\omega CR_L}{1-\\omega^2LC}) - arctan(\\frac{\\omega C(R+R_L)}{1-\\omega^2LC})$"
   ]
  },
  {
   "cell_type": "code",
   "execution_count": 38,
   "metadata": {},
   "outputs": [],
   "source": [
    "def mod_HCL_f(omega, C, L):\n",
    "    numerator = np.sqrt((1 - omega**2 * L * C) + omega**2 * C**2 * RL**2)\n",
    "    denominator = np.sqrt((1 - omega**2 * L * C)**2 + omega**2 * C**2 * (R + RL)**2)\n",
    "    return numerator / denominator\n",
    "\n",
    "def arg_HCL_f(omega, C, L):\n",
    "    term1 = np.arctan(omega * C * RL / (1 - omega**2 * L * C))\n",
    "    term2 = np.arctan(omega * C * (R + RL) / (1 - omega**2 * L * C))\n",
    "    return term1 - term2"
   ]
  },
  {
   "cell_type": "code",
   "execution_count": 40,
   "metadata": {},
   "outputs": [
    {
     "name": "stdout",
     "output_type": "stream",
     "text": [
      "[6.28318531e+02 8.79645943e+02 1.25663706e+03 1.75929189e+03\n",
      " 2.51327412e+03 3.51858377e+03 5.02654825e+03 7.09999940e+03\n",
      " 1.00530965e+04 1.41999988e+04 2.01061930e+04 2.82743339e+04\n",
      " 4.02123860e+04 5.65486678e+04 8.04247719e+04 1.13097336e+05\n",
      " 1.60849544e+05 2.27451308e+05 3.21699088e+05 4.54902616e+05\n",
      " 6.43398175e+05 9.09805232e+05 1.28679635e+06]\n"
     ]
    }
   ],
   "source": [
    "print(ω)"
   ]
  },
  {
   "cell_type": "code",
   "execution_count": 41,
   "metadata": {},
   "outputs": [
    {
     "name": "stdout",
     "output_type": "stream",
     "text": [
      "---------------------------MODULO R -------------------------\n",
      "chi2:  nan\n",
      "---------------------------FASE R -------------------------\n"
     ]
    },
    {
     "name": "stderr",
     "output_type": "stream",
     "text": [
      "/tmp/ipykernel_7136/1741383604.py:2: RuntimeWarning: invalid value encountered in sqrt\n",
      "  numerator = np.sqrt((1 - omega**2 * L * C) + omega**2 * C**2 * RL**2)\n",
      "/usr/lib/python3/dist-packages/scipy/optimize/_minpack_py.py:833: OptimizeWarning: Covariance of the parameters could not be estimated\n",
      "  warnings.warn('Covariance of the parameters could not be estimated',\n"
     ]
    }
   ],
   "source": [
    "fit_mod_HCL = Interpolazione(ω,modHCL,mod_HCL_f,sigma_modHCL,p0=[10*10**-9,0.04])\n",
    "fit_arg_HCL = Interpolazione(ω,ΦLC,arg_HCL_f,sigma_ΦLC,p0=[10*10**-9,0.04])\n",
    "# print(fit_mod_HR\n",
    "# print(fit_arg_HR)\n",
    "\n",
    "print(\"---------------------------MODULO R -------------------------\")\n",
    "print('chi2: ',fit_mod_HCL.rchisquare)\n",
    "print(\"---------------------------FASE R -------------------------\")\n",
    "print('chi2: ',fit_arg_HCL.rchisquare)\n",
    "print('------------------------- VALORI RICAVATI DAL FIT MODULO HR -----------------------------')\n",
    "print('C = ',final_val(fit_mod_HCL.bval[0],fit_mod_HCL.sigma_bval[0],decimals=3,exp=-10,udm='F'))\n",
    "print('L = ',final_val(fit_mod_HCL.bval[1],fit_mod_HCL.sigma_bval[1],decimals=3,exp=-3,udm='Hr'))\n",
    "\n",
    "print('------------------------- VALORI RICAVATI DAL ARG HR -----------------------------')\n",
    "print('C = ',final_val(fit_arg_HCL.bval[0],fit_arg_HCL.sigma_bval[0],decimals=3,exp=-10,udm='F'))\n",
    "print('L = ',final_val(fit_arg_HCL.bval[1],fit_arg_HCL.sigma_bval[1],decimals=3,exp=-3,udm='Hr'))"
   ]
  }
 ],
 "metadata": {
  "kernelspec": {
   "display_name": "Python 3",
   "language": "python",
   "name": "python3"
  },
  "language_info": {
   "codemirror_mode": {
    "name": "ipython",
    "version": 3
   },
   "file_extension": ".py",
   "mimetype": "text/x-python",
   "name": "python",
   "nbconvert_exporter": "python",
   "pygments_lexer": "ipython3",
   "version": "3.10.12"
  }
 },
 "nbformat": 4,
 "nbformat_minor": 2
}
