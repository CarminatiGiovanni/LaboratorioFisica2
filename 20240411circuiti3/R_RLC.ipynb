{
 "cells": [
  {
   "cell_type": "code",
   "execution_count": 1,
   "metadata": {},
   "outputs": [],
   "source": [
    "import pandas as pd\n",
    "import numpy as np\n",
    "from matplotlib import pyplot as plt\n",
    "import os\n",
    "import sys\n",
    "\n",
    "dir_path = os.path.abspath('')\n",
    "sys.path.append(dir_path + '/../')\n",
    "\n",
    "from interpolazione import Interpolazione, final_val\n",
    "\n",
    "dir_path = os.path.abspath('')\n",
    "FILE = dir_path + '/data/' + 'R_RLC.csv'\n",
    "fr = pd.read_csv(FILE)"
   ]
  },
  {
   "cell_type": "code",
   "execution_count": 3,
   "metadata": {},
   "outputs": [],
   "source": [
    "Vin = np.array(fr['Vin']) # V\n",
    "VR = np.array(fr['VR']) # V\n",
    "VLC = np.array(fr['V_LC']) # V\n",
    "ν = np.array(fr['Freq (Hz)']) # Hz \n",
    "ω = 2*np.pi*ν # rad/s\n",
    "ΦR = np.array(fr['faseR (deg)'], dtype=np.float64) * (np.pi / 180) # rad\n",
    "ΦL = np.array(fr['faseLC (deg)'], dtype=np.float64) * (np.pi / 180) # rad\n",
    "\n",
    "sigma_Vin = np.array(fr['sigmaV_in']) # media 4 = sqrt(16)\n",
    "sigma_VR = np.array(fr['sigmaV_R']) # media 4 = sqrt(16)\n",
    "sigma_VL = np.array(fr['sigmaV_LC'])\n",
    "\n",
    "R = 9950 # ohm\n",
    "sigmaR = R * 0.01 # errore associato ohmmetro\n",
    "RL = 40\n",
    "sigmaRL = RL * 0.01\n",
    "\n",
    "sigma_ΦR = np.array(fr['sigmaF_R'], dtype=np.float64) * (np.pi/180.0) /4 # rad\n",
    "sigma_ΦLC = np.array(fr['sigmaF_LC'], dtype=np.float64) * (np.pi/180.0) /4 # rad"
   ]
  },
  {
   "cell_type": "code",
   "execution_count": null,
   "metadata": {},
   "outputs": [],
   "source": []
  }
 ],
 "metadata": {
  "kernelspec": {
   "display_name": "Python 3",
   "language": "python",
   "name": "python3"
  },
  "language_info": {
   "codemirror_mode": {
    "name": "ipython",
    "version": 3
   },
   "file_extension": ".py",
   "mimetype": "text/x-python",
   "name": "python",
   "nbconvert_exporter": "python",
   "pygments_lexer": "ipython3",
   "version": "3.10.12"
  }
 },
 "nbformat": 4,
 "nbformat_minor": 2
}
