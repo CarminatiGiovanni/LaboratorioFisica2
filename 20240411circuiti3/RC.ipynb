{
 "cells": [
  {
   "cell_type": "code",
   "execution_count": 10,
   "metadata": {},
   "outputs": [],
   "source": [
    "import pandas as pd\n",
    "import numpy as np\n",
    "from matplotlib import pyplot as plt\n",
    "import os\n",
    "import sys\n",
    "\n",
    "dir_path = os.path.abspath('')\n",
    "sys.path.append(dir_path + '/../')\n",
    "\n",
    "from interpolazione import Interpolazione, final_val\n",
    "\n",
    "dir_path = os.path.abspath('')\n",
    "FILE = dir_path + '/data/' + 'RC.csv'\n",
    "fr = pd.read_csv(FILE)"
   ]
  },
  {
   "cell_type": "code",
   "execution_count": 11,
   "metadata": {},
   "outputs": [],
   "source": [
    "Vin = np.array(fr['Vin']) # V\n",
    "VC = np.array(fr['Vr']) # V\n",
    "VR = np.array(fr['Vc']) # V\n",
    "ν = np.array(fr['Freq (Hz)']) * 10**3 # Hz \n",
    "ΦR = np.array(fr['faseR (deg)'], dtype=np.float64) * (np.pi / 180) # rad\n",
    "ΦC = np.array(fr['faseC (deg)'], dtype=np.float64) * (np.pi / 180) # rad\n",
    "\n",
    "sigma_Vin = 0.04\n",
    "sigma_VR = np.array(fr['sigmaV_R'])\n",
    "sigma_VC = np.array(fr['sigmaV_C'])\n",
    "\n",
    "R = 9950 # ohm\n",
    "sigmaR = R * 0.01 # errore associato ohmmetro\n",
    "\n",
    "sigma_ΦR = np.array(fr['sigmaF_R'], dtype=np.float64) * (np.pi/180.0) # rad\n",
    "sigma_ΦC = np.array(fr['sigmaF_C'], dtype=np.float64) * (np.pi/180.0) # rad"
   ]
  }
 ],
 "metadata": {
  "kernelspec": {
   "display_name": "Python 3",
   "language": "python",
   "name": "python3"
  },
  "language_info": {
   "codemirror_mode": {
    "name": "ipython",
    "version": 3
   },
   "file_extension": ".py",
   "mimetype": "text/x-python",
   "name": "python",
   "nbconvert_exporter": "python",
   "pygments_lexer": "ipython3",
   "version": "3.10.12"
  }
 },
 "nbformat": 4,
 "nbformat_minor": 2
}
