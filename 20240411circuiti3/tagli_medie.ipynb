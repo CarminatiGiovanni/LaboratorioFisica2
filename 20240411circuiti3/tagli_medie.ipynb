{
 "cells": [
  {
   "cell_type": "code",
   "execution_count": 1,
   "metadata": {
    "metadata": {}
   },
   "outputs": [],
   "source": [
    "import numpy as np\n",
    "import os, sys\n",
    "dir_path = os.path.abspath('')\n",
    "sys.path.append(dir_path + '/../')\n",
    "from interpolazione import final_val"
   ]
  },
  {
   "cell_type": "markdown",
   "metadata": {},
   "source": [
    "### VALORI MEDI DEI COMPONENTI:"
   ]
  },
  {
   "cell_type": "code",
   "execution_count": 2,
   "metadata": {
    "metadata": {}
   },
   "outputs": [
    {
     "name": "stdout",
     "output_type": "stream",
     "text": [
      "< C > =  (95.682 ± 0.522)e-10 F\n",
      "< L > =  (49.786 ± 0.596)e-3 Hr\n"
     ]
    }
   ],
   "source": [
    "C = np.array([94.368,95.967]) * 10**-10\n",
    "σC = np.array([1.237,0.576]) * 10**-10\n",
    "\n",
    "w = 1/σC**2\n",
    "\n",
    "C = np.average(C, weights=w)\n",
    "σC = np.sqrt(1/np.sum(w))\n",
    "\n",
    "print('< C > = ',final_val(C,σC,decimals=3,exp=-10,udm='F'))\n",
    "\n",
    "\n",
    "#####################################################################\n",
    "\n",
    "L = np.array([49.624,49.82]) * 10**-3\n",
    "σL = np.array([1.431,0.656]) * 10**-3\n",
    "\n",
    "w = 1/σL**2\n",
    "L = np.average(L, weights=w)\n",
    "σL = np.sqrt(1/np.sum(w))\n",
    "\n",
    "print('< L > = ',final_val(L,σL,decimals=3,exp=-3,udm='Hr'))"
   ]
  },
  {
   "cell_type": "markdown",
   "metadata": {},
   "source": [
    "FREQUENZE DI TAGLIO"
   ]
  },
  {
   "cell_type": "markdown",
   "metadata": {},
   "source": [
    "$\\tau = RC \\quad \\sigma_\\tau = \\sqrt{(C\\sigma_R)^2 + (R\\sigma_C)^2}$\n",
    "\n",
    "$\\tau = L/R \\quad \\sigma_\\tau = \\sqrt{(\\frac{L}{R^2}\\sigma_R)^2 + (\\frac{1}{R}\\sigma_L)^2}$\n",
    "\n",
    "$\\nu_{taglio} = \\frac{1}{2\\pi\\tau}$ $\\sigma_\\nu = \\frac{1}{2\\pi}\\cdot\\frac{\\sigma_\\tau}{\\tau^2}$"
   ]
  },
  {
   "cell_type": "code",
   "execution_count": 26,
   "metadata": {
    "metadata": {}
   },
   "outputs": [
    {
     "name": "stdout",
     "output_type": "stream",
     "text": [
      "frequenza taglio RC:\n",
      "τ =  (95.49 ± 1.09)e-6 s\n",
      "ν =  (1.67 ± 0.02)e3 kHz\n",
      "frequenza di taglio RL\n",
      "τ =  (4.99 ± 0.15)e-6 s\n",
      "ν =  (31.91 ± 0.97)e3 kHz\n"
     ]
    }
   ],
   "source": [
    "# RC\n",
    "\n",
    "C = 95.967 * 10**-10\n",
    "sigmaC =  0.576 * 10**-10\n",
    "R = 9950\n",
    "σR = R*0.01\n",
    "\n",
    "τ = R*C\n",
    "στ = np.sqrt((C*σR)**2 + (R*σC)**2)\n",
    "\n",
    "print('frequenza taglio RC:')\n",
    "print('τ = ',final_val(τ,στ,decimals=2,exp=-6,udm='s'))\n",
    "ν = 1/(2*np.pi*τ)\n",
    "σν = στ/(2*np.pi*(τ**2))\n",
    "print('ν = ',final_val(ν,σν,decimals=2,exp=3,udm='kHz'))\n",
    "\n",
    "# RL\n",
    "\n",
    "L = 49.624 * 10**-3\n",
    "σL = 1.431 * 10**-3\n",
    "τ = L/R\n",
    "στ = np.sqrt(((L/R**2)*σR)**2 + ((1/R)*σL)**2)\n",
    "\n",
    "print('frequenza di taglio RL')\n",
    "print('τ = ',final_val(τ,στ,decimals=2,exp=-6,udm='s'))\n",
    "ν = 1/(2*np.pi*τ)\n",
    "σν = στ/(2*np.pi*(τ**2))\n",
    "print('ν = ',final_val(ν,σν,decimals=2,exp=3,udm='kHz'))"
   ]
  },
  {
   "cell_type": "markdown",
   "metadata": {},
   "source": [
    "FREQUENZA DI RISONANZA (PASSA BANDA)\n",
    "\n",
    "$\\omega_0 = \\frac{1}{\\sqrt{LC}} \\Rightarrow \\nu_{risonanza} = \\frac{1}{2\\pi\\sqrt{LC}}$\n",
    "\n",
    "$\\sigma_\\nu = \\frac{1}{2}\\sqrt{\\frac{\\sigma_L^2}{L^3 C}+\\frac{\\sigma_C^2}{C^3 L}}$\n"
   ]
  },
  {
   "cell_type": "code",
   "execution_count": 20,
   "metadata": {},
   "outputs": [
    {
     "name": "stdout",
     "output_type": "stream",
     "text": [
      "frequenza di risonanza:\n",
      "ν =  (7.3 ± 0.7)e3 kHz\n"
     ]
    }
   ],
   "source": [
    "import numpy as np\n",
    "C = 95.967* 10**-10\n",
    "sigmaC = 0.576* 10**-10\n",
    "L = 49.624* 10**-3\n",
    "sigmaL = 1.431* 10**-3\n",
    "\n",
    "ν = 1/(2*np.pi*np.sqrt(L*C))\n",
    "σν = 0.5 * np.sqrt((sigmaL**2 / (L**3 * C)) + (sigmaC**2 / (C**3 * L)))\n",
    "\n",
    "print('frequenza di risonanza:')\n",
    "print('ν = ',final_val(ν,σν,decimals=1,exp=3,udm='kHz'))"
   ]
  }
 ],
 "metadata": {
  "kernelspec": {
   "display_name": "Python 3",
   "language": "python",
   "name": "python3"
  },
  "language_info": {
   "codemirror_mode": {
    "name": "ipython",
    "version": 3
   },
   "file_extension": ".py",
   "mimetype": "text/x-python",
   "name": "python",
   "nbconvert_exporter": "python",
   "pygments_lexer": "ipython3",
   "version": "3.10.12"
  }
 },
 "nbformat": 4,
 "nbformat_minor": 2
}
