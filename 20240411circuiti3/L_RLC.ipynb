{
 "cells": [
  {
   "cell_type": "code",
   "execution_count": 2,
   "metadata": {},
   "outputs": [],
   "source": [
    "import pandas as pd\n",
    "import numpy as np\n",
    "from matplotlib import pyplot as plt\n",
    "import os\n",
    "import sys\n",
    "\n",
    "dir_path = os.path.abspath('')\n",
    "sys.path.append(dir_path + '/../')\n",
    "\n",
    "from interpolazione import Interpolazione, final_val\n",
    "\n",
    "dir_path = os.path.abspath('')\n",
    "FILE = dir_path + '/data/' + 'L_RLC.csv'\n",
    "fr = pd.read_csv(FILE)"
   ]
  },
  {
   "cell_type": "code",
   "execution_count": null,
   "metadata": {},
   "outputs": [],
   "source": [
    "Vin = np.array(fr['Vin']) # V\n",
    "VL = np.array(fr['VL']) # V\n",
    "ν = np.array(fr['Freq (Hz)']) # Hz \n",
    "ω = 2*np.pi*ν # rad/s\n",
    "ΦL = np.array(fr['faseL(deg)'], dtype=np.float64) * (np.pi / 180) # rad\n",
    "\n",
    "sigma_Vin = np.array(fr['sigmaVin'])\n",
    "sigma_VL = np.array(fr['sigmaVL'])\n",
    "\n",
    "R = 9950 # ohm\n",
    "sigmaR = R * 0.01 # errore associato ohmmetro\n",
    "RL = 40\n",
    "sigmaRL = RL * 0.01\n",
    "\n",
    "sigma_ΦL = np.array(fr['sigmaF_L'], dtype=np.float64) * (np.pi/180.0) # rad\n",
    "\n",
    "###### Calcolo funzioni di trasferimento ######\n",
    "\n",
    "modHR = VL/Vin\n",
    "sigma_modHR = np.sqrt(((VL/(Vin**2))*sigma_Vin)**2 + ((sigma_VL/Vin)**2))\n",
    "\n",
    "# print(modHR,sigma_modHR)\n",
    "\n",
    "##### SISTEMAZIONE PHIR #######\n",
    "\n",
    "# quando PHI_R è negativo, aggiungo 2pi\n",
    "\n",
    "# shift = lambda x: x + np.pi if x < 0 else x\n",
    "# shift = np.vectorize(shift)\n",
    "# ΦR = shift(ΦR)"
   ]
  }
 ],
 "metadata": {
  "kernelspec": {
   "display_name": "Python 3",
   "language": "python",
   "name": "python3"
  },
  "language_info": {
   "codemirror_mode": {
    "name": "ipython",
    "version": 3
   },
   "file_extension": ".py",
   "mimetype": "text/x-python",
   "name": "python",
   "nbconvert_exporter": "python",
   "pygments_lexer": "ipython3",
   "version": "3.10.12"
  }
 },
 "nbformat": 4,
 "nbformat_minor": 2
}
